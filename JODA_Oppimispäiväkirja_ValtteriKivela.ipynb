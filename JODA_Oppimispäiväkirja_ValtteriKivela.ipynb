{
 "cells": [
  {
   "cell_type": "markdown",
   "metadata": {},
   "source": [
    "# Oppimispäiväkirja"
   ]
  },
  {
   "cell_type": "markdown",
   "metadata": {},
   "source": [
    "## Viikko 1"
   ]
  },
  {
   "cell_type": "markdown",
   "metadata": {},
   "source": [
    "Ensimmäinen Johdatus datatieteeseen -kurssin luento pidettiin 9.3.2021 ja osallistuin luennolle katsomalla luentotallenteen varsinaisen luennon jälkeen. Ensimmäisen luennon aiheina olivat tyypilliseen tapaan kurssin opiskelukäytännöt sekä johdanto kurssin aiheisiin. Luennon pääteemana oli tutstuminen siihen, mitä datatiede oikeastaan on ja miten sitä voidaan hyödyntää työelämässä ja toimi ikään kuin introna sille, mitä seuraavina viikkoina tullaan kurssilla opiskelemaan. Lisäksi sivuttiin hieman työvälineitä, joilla dataa voidaan käsitellä ja visualisoida luettavaan muotoon helposti. Visualisointia ja datan käsittelyä käsiteltiin lisää perjantain demoluennolla.\n",
    "\n",
    "Kurssilla käytettävistä datateiteen työvälineistä olisi voinut mielestäni olla aloitusluennolla enemmänkin asiaa, vaikka ne toki tulevat tutuksi kurssin edetessä. Esimerkiksi itselleni tuli hieman yllätyksenä luennon jälkeen erilaisiin työkaluihin tutustuessa, että Anaconda sisältää kattavasti kaikenlaisia datahallinnan työkaluja ja, että siihen sisältyy mm. kurssin luentopäiväkirjan alustaksi suositeltu Jupyter Notebook. Anacondan asentamisesta saa myös pisteitä harjoitustyön tekemiseen, eli kysessä on kuitenkin varsin olennainen osa kurssin suoritusta, minkä perusteella Anaconda voisi olla suositeltu asennus heti kurssin ensimmäisen luennon jälkeen.\n",
    "\n",
    "Luennon lopuksi käsiteltiin hieman opiskelijoiden odotuksia kurssista. Itse toivon oppivani kurssilla käsittelemään raakadataa sievempään muotoon, käyttämään datahallinnan työkaluja sekä saavani tietoa datatieteen jatko-opiskelusta. Urasuunnitelmani tähtäävät tällä hetkellä jonkinlaiseen datatieteen, analytiikan ja liiketoiminnan kehittämisen yhdistelmään, minkä vuoksi motivaationi datatieteen opiskelua kohtaan on melko korkealla.\n",
    "\n",
    "Johdantoluennon pohjalta loppuviikon JODA-opinnot painottuivat Anacondan asennukseen sekä sen osa-ohjelmiin ja ominaisuuksiin tutustumiseen. Oppimispäiväkirjan ohjeissa oli, että jokaiselta luentoviikolta tulee oppimispäiväkirjaan sisällyttää myös koodia, joten tämän viikon koodi on vain testaus sille, miten koodin lisääminen Jupyter-työkirjassa toimii.\n",
    "\n",
    "\n",
    "Viikon Top 5 oivallukset:\n",
    "1. Datatiede koostuu tilastotieteen ja ohjelmoinnin lisäksi kommunikaatiotaidosta sekä liiketoimintaosaamisesta.\n",
    "2. Ollakseen hyvä datatieteilijä, ei tarvitse olla kaikkien edellä mainittujen osa-alueiden erityisasiantuntija vaan datatiede on usein tiimityötä.\n",
    "3. Kurssilla käytettävistä työkaluista on mahdollista valita mieluisensa mutta Anaconda vaikuttaa monipuolisimmalta.\n",
    "4. Datatiedettä on tehty jo pitkään, mutta silti sille on valtavasti kysyntää sillä tietoa on maailmassa enemmän kuin koskaan.\n",
    "5. Vaikka dataa on paljon, ei sitä jaksa kukaan lukea. Datatiedettä tarvitaan datan sieventämiseen, mallintamiseen ja analysoimiseen niin, että siitä saa helposti selvää."
   ]
  },
  {
   "cell_type": "code",
   "execution_count": 22,
   "metadata": {
    "scrolled": true
   },
   "outputs": [
    {
     "name": "stdout",
     "output_type": "stream",
     "text": [
      "Hello World!\n",
      "Give a number: 100\n",
      "Give a second number: 2\n",
      "\n",
      "   first  second  total\n",
      "a    100       2    102\n"
     ]
    }
   ],
   "source": [
    "import pandas as pd\n",
    "print(\"Hello World!\")\n",
    "\n",
    "x = int(input(\"Give a number: \"))\n",
    "y = int(input(\"Give a second number: \"))\n",
    "\n",
    "print()\n",
    "\n",
    "numbers = [(x, y, x+y)]\n",
    "df1 = pd.DataFrame(numbers, columns=[\"first\", \"second\", \"total\"], index=[\"a\"])\n",
    "\n",
    "print(df1)\n"
   ]
  },
  {
   "cell_type": "markdown",
   "metadata": {},
   "source": [
    "## Viikko 2"
   ]
  },
  {
   "cell_type": "markdown",
   "metadata": {},
   "source": [
    "Kurssin kakkosluennolla esiteltiin datatieteen prosessin kulku ja syvennyttiin tarkemmin sen ensimmäiseen vaiheeseen, valmisteluun. Valmisteluvaiheessa kerätään ja siivotaan dataa niin, että sen analysoiminen sujuu myöhemmin  datan keräämiseen, johon liittyen myös demoluennolla tarkasteltiin verkkoryömijän toimintaa ja sen avulla datan raapimista verkosta. Katsoin luennot jälkikäteen luentotallenteista ja luin Github-sivulla linkitetyt luentoon liittyvät artikkelit. Luentotallenteilla ei kuulunut osallistujien ääneen tekemät kysymykset, joten kehitysehdotuksena tulevia luentoja varten voisi ääneen kysytyt kysymykset toistaa niin ne kuuluisivat myös tallenteella.\n",
    "\n",
    "Ennen kuin datatieteen prosessi käynnistetään on hyvä tietää, miksi datatiedettä tehdään. Luennolla otettiin aiheeseen liiketaloudellinen näkökulma ja datatieteen hyödyllisyyttä tarkasteltiin liiketaloudellisin perustein. Riittävästi kerättyä dataa oikein jalostettuna ja analysoituna on yritysten johdossa äärimmäisen arvokasta, jotta oikeansuuntaisia päätöksiä ja arvioita liiketoiminnan tulevaisuudelle voidaan tehdä. Tässä prosessissa datainsinöörit vastaavat pääasiallisesti datan keräämisestä, siirtämisestä ja säilyttämisestä, sekä tietojärjestelmärakenteiden ylläpidosta ja kehittämisestä. Datatieteilijän työnkuvaksi jää päättää ja etsiä lähteitä hyödynnettävälle datalle, etsiä keinoja päästä dataan käsiksi sekä tehdä datasta olennaisia analyysejä ja johtopäätöksiä. ([ETL/DAD](https://www.datasciencecentral.com/profiles/blogs/data-scientist-versus-data-engineer)) \n",
    "\n",
    "Kun haluttua tietoa on löydetty internetistä, voidaan sen tallentamisessa hyödyntää verkkoryömijöitä ([Web Crawler](https://en.wikipedia.org/wiki/Web_crawler)) ja datan raapimista ([Web Scraping](https://en.wikipedia.org/wiki/Web_scraping)). Luennon aikana kyseiset termit eivät vielä minulle oikein auenneet, mutta perjantaina esitelty demo oli erinomaisen havainnollistava ja koen että ymmärrän nyt varsin hyvin näiden toimintaperiaatteet. Ryömijälle annetaan jokin nettisivu, jolta se aloittaa tietojen hakemisen, sekä paikka html-koodissa, mistä siltä pyydetty tieto löytyy. Näiden lisäksi ryömijälle kerrotaan, mistä se löytää linkin seuraavalle nettisivulle. Ryömijä etsii ja tallentaa aloitussivulta siltä pyydetyt tiedot, jonka jälkeen se siirtyy sille kerrotusta kohdasta löytyvästä linkistä seuraavalle sivulle etsimään lisää tietoja. Näin ryömijä ikäänkuin ryömii pitkin nettisivun linkkirakennetta ja etsii ja tallentaa siltä pyydettyjä tietoja niin kauan, kunnes se ei pääse enää eteenpäin.\n",
    "\n",
    "Lisää ryömijöistä ja datatieteestä oppii varmasti, kun pääsee toteuttamaan ja kokeilemaan, minkä vuoksi odotankin innolla jo seuraavia luentoja ja harjoitustyötä. Mieleeni nousi myös ajatuksia, kuinka ryömijäbotista voisi kehittää paremman antamalla sille esimerkiksi valmiita hakusanoja tai muita syötteitä, joita se voisi nettisivuilla vieraillessaan hyödyntää.\n",
    "\n",
    "Viikon Top 5 oivallukset:\n",
    "1. Datan ja analytiikan hyödyntämiselle on liike-elämässä vahvat perustelut\n",
    "2. Mikä web crawler on ja miten se toimii\n",
    "3. Miten internetistä voi kerätä tietoa datan raavintaa hyödyntämällä\n",
    "4. Vaikka dataa on internetissä vapaasti saatavilla, sen systemaattinen kerääminen ja analysointi omia tarkoituksiaan varten ei välttämättä ole eettistä\n",
    "5. Tiedon analysoinnin kannalta on erittäin paljon merkitystä, että analysoitava data on yhteneväisessä muodossa, jolloin sitä voidaan helpommin käsitellä koneellisesti\n",
    "\n",
    "\n",
    "Harjoitustyötä varten kokeilin tiedon raavintaa netistä raapijan avulla. Tämän viikon koodiksi olen lisännyt scrapy:n asennuksen sekä koodin, jota käytin harjoitustyössa datan raapimiseen.\n"
   ]
  },
  {
   "cell_type": "code",
   "execution_count": 1,
   "metadata": {},
   "outputs": [],
   "source": [
    "import scrapy\n",
    "\n",
    "class CitymonitorScraperSpider(scrapy.Spider):\n",
    "    name = 'citymonitor_scraper'\n",
    "    allowed_domains = ['citymonitor.ai']\n",
    "    # assing a product-review-page url below\n",
    "    start_urls = ['https://citymonitor.ai/politics/entirely-official-and-completely-objective-ranking-every-london-borough-4976']\n",
    "    \n",
    "    def parse(self, response):\n",
    "        \n",
    "        review_texts = response.css('.docs-internal-guid-4f8f3810-7fff-8f2e-fabc-009f214a6a57')\n",
    "        \n",
    "        for i in range(len(review_texts)):\n",
    "            review_texts[i] = \"\".join(review_texts[i].css('::text').extract()).strip()\n",
    "\n",
    "\n",
    "        for i in range(len(review_texts)):\n",
    "            review = {\n",
    "                'text' : review_texts[i],\n",
    "            }\n",
    "            yield review\n"
   ]
  },
  {
   "cell_type": "markdown",
   "metadata": {},
   "source": [
    "## Viikko 3"
   ]
  },
  {
   "cell_type": "markdown",
   "metadata": {},
   "source": [
    "Kurssin kolmannen luennon aiheena oli koneoppiminen ja sen soveltaminen datatieteessä. Katsoin luennon nauhalta ja kävin läpi luentorungon materiaalit. Luennolla käytiin läpi koneoppimisen periaatteet, tarkasteltiinohjattua koneoppimisen mallia [kaavion](https://en.proft.me/media/science/ml_svlw.jpg) avulla, pohdittiin erilaisia koneoppimisen sovelluksia ja käsiteltiin erilaisia koneoppimisen työkaluja.\n",
    "\n",
    "Liiketoiminnallisesta näkökulmasta koneoppimista voidaan hyödyntää runtiininomaisten tehtävien automatisoinnissa sekä ennusteiden ja mallien luomisessa datan pohjalta. Ohjattu koneoppiminen lähtee siitä, että koneelle kerrotaan, mitä asiaa/tapahtumaa (label) sen on tarkoitus ennustaa, sekä piirteet (features), joiden vaikutusta asiaan halutaan selvittää. Näiden piirteiden avulla luodaan malli, jonka perusteella kone osaa tehdä ennusteita sille syötetystä datasta. On tärkeää huomata, että malli on harvoin tarkka heti syntyessään, joten mallin arviointi ja jatkojalostaminen on myös tärkeää. Vasta, kun malli osaa ennustaa halutun tapahtuman riittävällä tarkkuudella, voidaan sitä hyödyntää liiketoiminnan kehittämisessä. Koneoppiminen ja ennusteiden tarkkuus riippuu täysin siitä, kuinka hyvä malli on onnistuttu rakentamaan ja millaista dataa malliin syötetään. Kokeneet data-analyytikot osaavat valita ja jalostaa malleja niin, että olennaisimmat piirteet tulevat huomioiduiksi. \n",
    "\n",
    "Erityisen kiinnostava esimerkki koneoppimmisesta oli esimerkki luonnollisen kielen käsittelystä, eli NLP:stä. Luennon jälkeen katsottuani aiheesta edureka!:n [videon](https://www.youtube.com/watch?v=X2vAabgKiuM), koin oppineeni miten NLP toimii ja saaneeni alustavan käsityksen siitä, millaisia työkaluja NLTK-kirjasto tarjoaa luonnollisen kielen käsittelemiseen. Video oli mielestäni erittäin informatiivinen, ja vaikka NLP:tä en tulekaan harjoitustyössäni käyttämään, oli siihen mielenkiintoista tutustua. Harjoitusmielessä tämän viikon koodirivit ovatkin NLTK-kirjaston testailua. Kehityskohteena luennoille voisi lisätä syventävää materiaalia ja linkkejä asioista kertoviin videoihin, jotta halutessaan opiskelijat voisivat tutustua aihepiiriin laajemmin.\n",
    "\n",
    "\n",
    "Viikon Top 5 oivallukset:\n",
    "1. \"Raakadatan\" suhteen tulee olla kriittinen. Dataa kerätessä ja muokatessa tehdään aina oletuksia ja yksinkertaistuksia.\n",
    "2. Koneen voi opettaa ennustamaan todella monipuolisesti erilaisia asioita, kunhan niiden ennustamiselle voidaan rakentaa malli.\n",
    "3. Vastavuoroisesti helppoja päätelmiä voi opettaa konelle jo melko pienellä vaivalla ja osaamistasolla.\n",
    "4. Koneoppimisessa päästään syvemmille tasoille kun koneet voidaan opettaa opettamaan toisiaan.\n",
    "5. Mitä on NLP"
   ]
  },
  {
   "cell_type": "code",
   "execution_count": 3,
   "metadata": {},
   "outputs": [
    {
     "name": "stderr",
     "output_type": "stream",
     "text": [
      "[nltk_data] Downloading package punkt to\n",
      "[nltk_data]     /Users/valtterikivela/nltk_data...\n",
      "[nltk_data]   Unzipping tokenizers/punkt.zip.\n"
     ]
    },
    {
     "data": {
      "text/plain": [
       "True"
      ]
     },
     "execution_count": 3,
     "metadata": {},
     "output_type": "execute_result"
    }
   ],
   "source": [
    "import nltk\n",
    "nltk.download('punkt')"
   ]
  },
  {
   "cell_type": "code",
   "execution_count": 4,
   "metadata": {},
   "outputs": [
    {
     "data": {
      "text/plain": [
       "'Before searching in the job descriptions, we need lists of keywords that represent the tools/skills/degrees. For this analysis, we use a simple approach to forming the lists. The lists are based on our judgment and the content of the job postings. You may use more advanced approaches if the task is more complicated than this. For the list of keywords of tools, we initially come up with a list based on our knowledge of data science. We know that the popular tools for data scientists include Python, R, Hadoop, Spark, and more. We have a decent knowledge of the field. So this initial list is good to have covered many tools mentioned in the job postings. Then we look at random job postings and add tools that are not on the list yet. Often these new keywords remind us to add other related tools as well. After this process, we have a keyword list that covers most of the tools mentioned in the job postings. Next, we separate the keywords into a single-word list and a multi-word list. We need to match these two lists of keywords to the job description in different ways. With simple string matches, the multi-word keyword is often unique and easy to identify in the job description. The single-word keyword, such as “c” is referring to C programming language in our article. But “c” is also a common letter that is used in many words including “can”, “clustering”. We need to process them further (through tokenization) to match only when there is a single letter “c” in the job descriptions. Below are our lists of keywords for tools coded in Python.'"
      ]
     },
     "execution_count": 4,
     "metadata": {},
     "output_type": "execute_result"
    }
   ],
   "source": [
    "article = 'Before searching in the job descriptions, we need lists of keywords that represent the tools/skills/degrees. For this analysis, we use a simple approach to forming the lists. The lists are based on our judgment and the content of the job postings. You may use more advanced approaches if the task is more complicated than this. For the list of keywords of tools, we initially come up with a list based on our knowledge of data science. We know that the popular tools for data scientists include Python, R, Hadoop, Spark, and more. We have a decent knowledge of the field. So this initial list is good to have covered many tools mentioned in the job postings. Then we look at random job postings and add tools that are not on the list yet. Often these new keywords remind us to add other related tools as well. After this process, we have a keyword list that covers most of the tools mentioned in the job postings. Next, we separate the keywords into a single-word list and a multi-word list. We need to match these two lists of keywords to the job description in different ways. With simple string matches, the multi-word keyword is often unique and easy to identify in the job description. The single-word keyword, such as “c” is referring to C programming language in our article. But “c” is also a common letter that is used in many words including “can”, “clustering”. We need to process them further (through tokenization) to match only when there is a single letter “c” in the job descriptions. Below are our lists of keywords for tools coded in Python.'\n",
    "article"
   ]
  },
  {
   "cell_type": "code",
   "execution_count": 6,
   "metadata": {},
   "outputs": [
    {
     "name": "stdout",
     "output_type": "stream",
     "text": [
      "<FreqDist with 140 samples and 318 outcomes>\n"
     ]
    }
   ],
   "source": [
    "from nltk.tokenize import word_tokenize\n",
    "tokenArticle=word_tokenize(article)\n",
    "\n",
    "\n",
    "# Sanojen määrien jakauma\n",
    "from nltk.probability import FreqDist\n",
    "fdist = FreqDist(tokenArticle)\n",
    "print(fdist)"
   ]
  },
  {
   "cell_type": "code",
   "execution_count": 7,
   "metadata": {},
   "outputs": [
    {
     "data": {
      "image/png": "[encoded data removed]",
      "text/plain": [
       "<Figure size 432x288 with 1 Axes>"
      ]
     },
     "metadata": {
      "needs_background": "light"
     },
     "output_type": "display_data"
    }
   ],
   "source": [
    "# Jakauman kuvaaja\n",
    "import matplotlib.pyplot as plt\n",
    "fdist.plot(30, cumulative=False)\n",
    "plt.show()"
   ]
  },
  {
   "cell_type": "markdown",
   "metadata": {},
   "source": [
    "## Viikko 4"
   ]
  },
  {
   "cell_type": "markdown",
   "metadata": {},
   "source": [
    "Viikon 4 luennolla keskityttiin datan hyödyntämiseen liiketalouden näkökulmasta ja jätettiin tekniset ratkaisut sivummalle. Tämän lisäksi aiheena oli harjoitustyö ja kuinka päästä sen kanssa alkuun. Osallistuin luennolle katsomalla tallenteen luennon jälkeen. \n",
    "\n",
    "Tallennetta katsoessa olin hieman yllättynyt, että tällä luennolla olikin ollut pienryhmätyöskentelyä. Pienryhmätyöskentelyn tehtävänannot löytyivät luennon työkirjasta mutta muu anti ryhmätyöskentelystä jäi tällä kertaa saamatta. Jatkoa ajatellen voisi olla hyödyllistä ilmoittaa ennen luentoa, mikäli luennolla poikkeuksellisesti hyödynnetään pienryhmiä, jotta opiskelijoilla on tieto siitä, että kaikkia luennon osioita ei tallenneta. Luennolle osallistuisi ehkä silloin myös vain ne, jotka pitävät ryhmätyöskentelystä. Vastavuoroisesti ne, joille pienryhmätyöskentely ei ole mieluista, jättäisivät osallistumatta, jolloin yleistä joukkopakoa ei tapahtuisi pienryhmiin jakautuessa.\n",
    "\n",
    "Ilman pienryhmäpohdintoja luennon asiasisältö jäi hieman ohueksi mutta opiskelin luentomateriaalista löytyviä malleja omatoimisesti. Luennon tärkein anti itselleni oli siis [CRISP-DM:n](https://en.wikipedia.org/wiki/Cross-industry_standard_process_for_data_mining) sekä [mahdollisuuskehikkoon](https://www.jpattonassociates.com/opportunity-canvas/) tutustuminen, sekä tottakai harjoitustyöhön prosessin pohtiminen. Näistä erityisesti CRISP-DM vaikutti tärkeältä, joten upotin kuvan siitä mukaan tähän dokumenttiin.\n",
    "\n",
    "\n",
    "<img src=\"https://upload.wikimedia.org/wikipedia/commons/b/b9/CRISP-DM_Process_Diagram.png\" width=400 height=400 />\n",
    "\n",
    "Harjoitustyötä ajatellen tämän viikon koodiklinikkaluento tutui todella hyödylliseltä, sillä aiheena olivat lineaarinen regressio ja datan jalostaminen. Datan jalostamisen työkalut tulevat varmasti tarpeeseen harjoitustyötä tehdessä. On todella informatiivista nähdä datan käsittelyä Pythonilla käytännössä. Tämän viikon koodiriveinä onkin demoluennon pohjalta rakenneltuja lineaariregressiokaavioita. Lineaarisesta regressosta löytyi myös hyvä edureka!:n video [YouTubesta](https://www.youtube.com/watch?v=E5RjzSK0fvY).\n",
    "\n",
    "Tämän viikon koodipätkänä harjoitustyössä käytettyä koodia lineaarisesta regressiosta.\n",
    "\n",
    "Viikon Top 5 oivallukset:\n",
    "1. Datan käsittelemisen osaamisen lisäksi on tärkeää pystyä perustelemaan ja näyttämään, mitä hyötyä osaamisesta on. Ratkaistava ongelma on tekemisen ydin.\n",
    "2. Vinkkejä siitä, millaista dataa ja datapalveluita internetissä on tarjolla\n",
    "3. Vaikka käyttäisi \"valmista\" dataa, saattaa siinä silti olla jalostettavaa\n",
    "4. Pandas dataframeja voi tehdä vuorovaikutteisiksi html:n ja javascriptin avulla\n",
    "5. Miten lineaarinen regressio toimii"
   ]
  },
  {
   "cell_type": "code",
   "execution_count": null,
   "metadata": {},
   "outputs": [],
   "source": [
    "plt.rcParams['figure.figsize'] = (20.0, 10.0)\n",
    "\n",
    "# Valitaan selittäväksi tekijäksi Citymonitor-arvostelu ja selitettäväksi asuntojen määrä.\n",
    "x = mean_df[\"Citymonitor\"].values\n",
    "y = mean_df[\"counts\"].values\n",
    "\n",
    "mean_x = np.mean(x)\n",
    "mean_y = np.mean(y)\n",
    "\n",
    "n = len(x)\n",
    "\n",
    "\n",
    "# lasketaan b1 ja b0 arvot\n",
    "numer = 0\n",
    "denom = 0\n",
    "\n",
    "for i in range(n):\n",
    "    numer += (x[i] - mean_x) * (y[i] - mean_y)\n",
    "    denom += (x[i] - mean_x) ** 2\n",
    "b1 = numer / denom\n",
    "b0 = mean_y - (b1 * mean_x)\n",
    "\n",
    "print(b1, b0)\n",
    "\n",
    "\n",
    "# Piirretään pisteparvi, ja siihen regressiosuora\n",
    "max_x = np.max(x) + 2\n",
    "min_x = np.min(x) - 2\n",
    "\n",
    "X = np.linspace(min_x, max_x, 1000)\n",
    "Y = b0 + b1 * X\n",
    "\n",
    "plt.plot(X,Y,color='#58b970', label='Regression Line')\n",
    "plt.scatter(x, y, c='#ef5423', label='Scatter Plot')\n",
    "\n",
    "plt.xlabel('Citymonitor ranking')\n",
    "plt.ylabel('Airbnb apartments in neighbourhood')\n",
    "plt.legend()\n",
    "plt.show()"
   ]
  },
  {
   "cell_type": "markdown",
   "metadata": {},
   "source": [
    "## Viikko 5"
   ]
  },
  {
   "cell_type": "markdown",
   "metadata": {},
   "source": [
    "Kurssin viidennellä viikolla luento toteutettiin vierailuluentona ja katsoin luennon nauhalta varsinaisen luentoajankohdan jälkeen. Luennoitsijoina olivat Teemu Mikkonen ja Timo Lehtonen, jotka molemmat työskentelevät Solitalla dataan liittyvissä työtehtävissä. Luennon rakenne oli hyvin demoluentomainen, sillä luennolla toteutettiin ja testattiin NLP-malli, jolla voi arvioida, kuinka suurella todennäköisyydellä tviitti tai muu teksti on tietyn ministerin kirjoittama.\n",
    "\n",
    "Luennolla hypättiin alun esittelyiden jälkeen suoraan aiheeseen. Onneksi viikolla 3 luentomateriaalissa ollut edureka!:n video NLP:stä oli itselläni hyvin muistissa, jolloin luennolla käsitellyt termit ja NLP-prosessin eteneminen olivat minulle jo jotakuinkin entuudestaan tuttuja ja pystyin keskittymään aiheeseen ja demo-ongelmaan syventymiseen. Video voisi olla tulevaisuuden kursseillakin vastaavaa aihetta käsittelevää luentoa ennen tai jopa luennon esitehtävänä.\n",
    "\n",
    "Itse luennolla toteutettu NLP-mallin luominen ja testaaminen toimi hyvin havainnollistavana esimerkkinä siitä, miten NLP todellisuudessa toimii ja kuinka sitä voidaan hydödyntää luonnollisen kielen käsittelyssä ja datatieteen tekemisessä yleisestikin. On hankala sanoa mitä kaikkea varsinaisesti opin, mutta koen, että luennon esimerkit syvensivät ymmärrystäni koneoppimisesta ja NLP:n toiminnasta. Tämä oli toki vain yksi esimerkki, kuinka koneoppimista voi toteuttaa ja seuraava askel onkin varmasti mallien luominen ja testaaminen itse, minkä kautta käsitys koneoppimisesta ja sen ohjelmoimisesta syventyy edelleen.\n",
    "\n",
    "\n",
    "Viikon 5 demoluennolla käsiteltiin ohjaamatonta oppimista ja pääkomponenttianalyysiä (Pricipal Component Analysis). Pääkomponenttianalyysin tekeminen hyödyntää ohjaamatonta koneoppimista ja koneen tavoitteena on analyysin nimen mukaisesti tavoitteena etsiä piirteitä, jotka yhdistävät datapisteitä toisistaan erillisiin ryhmiin. Demoluennon asiat tuntuivat monimutkaisilta, joten etin Youtubesta aiheeseen liittyvän [videon](https://www.youtube.com/watch?v=oiusrJ0btwA), jossa pääkomponenttianalyysiä oli käsitelty hieman yksinkertaisemmin. Myös tämän viikon koodipätkät on tehty samaan tapaan videon demon kanssa.\n",
    "\n",
    "Viikon Top 5 oivallukset:\n",
    "1. Millaisia erikoisuuksia täytyy huomioida kun suomenkielistä tekstiä käsitellään koneellisesti\n",
    "2. Koneet eivat osaa lukea sanoja sellaisenaan vaan sanat on muutettava sanavektoreiksi\n",
    "3. Koneoppimisen prosessi alkaa vaikuttaa jo selkeältä\n",
    "4. Mallien luomiseen on lukemattomia vaihtoehtoja mutta mitä huolellisemmin mallin toteuttaa, sitä varmemmin sillä saadaan hyviä tuloksia. 80–20 -sääntö pätee myös mallin luomiseen ja testaamiseen.\n",
    "5. Kurssin demojen tyyppisiä juttuja voi oikeasti tehdä työkseen!"
   ]
  },
  {
   "cell_type": "code",
   "execution_count": 24,
   "metadata": {},
   "outputs": [
    {
     "name": "stdout",
     "output_type": "stream",
     "text": [
      "['sepal length (cm)', 'sepal width (cm)', 'petal length (cm)', 'petal width (cm)']\n",
      "['setosa' 'versicolor' 'virginica']\n"
     ]
    }
   ],
   "source": [
    "from sklearn import datasets\n",
    "iris = datasets.load_iris()\n",
    "\n",
    "print (iris.feature_names)\n",
    "print (iris.target_names)\n",
    "\n",
    "x = iris.data\n",
    "y = iris.target"
   ]
  },
  {
   "cell_type": "code",
   "execution_count": 26,
   "metadata": {},
   "outputs": [],
   "source": [
    "from sklearn.preprocessing import scale\n",
    "from sklearn import decomposition\n",
    "\n",
    "x = scale(x)"
   ]
  },
  {
   "cell_type": "code",
   "execution_count": 27,
   "metadata": {},
   "outputs": [
    {
     "data": {
      "text/plain": [
       "PCA(n_components=3)"
      ]
     },
     "execution_count": 27,
     "metadata": {},
     "output_type": "execute_result"
    }
   ],
   "source": [
    "pca = decomposition.PCA(n_components = 3)\n",
    "pca.fit(x)"
   ]
  },
  {
   "cell_type": "code",
   "execution_count": 28,
   "metadata": {},
   "outputs": [
    {
     "data": {
      "text/html": [
       "<div>\n",
       "<style scoped>\n",
       "    .dataframe tbody tr th:only-of-type {\n",
       "        vertical-align: middle;\n",
       "    }\n",
       "\n",
       "    .dataframe tbody tr th {\n",
       "        vertical-align: top;\n",
       "    }\n",
       "\n",
       "    .dataframe thead th {\n",
       "        text-align: right;\n",
       "    }\n",
       "</style>\n",
       "<table border=\"1\" class=\"dataframe\">\n",
       "  <thead>\n",
       "    <tr style=\"text-align: right;\">\n",
       "      <th></th>\n",
       "      <th>PC1</th>\n",
       "      <th>PC2</th>\n",
       "      <th>PC3</th>\n",
       "    </tr>\n",
       "  </thead>\n",
       "  <tbody>\n",
       "    <tr>\n",
       "      <th>0</th>\n",
       "      <td>-2.264703</td>\n",
       "      <td>0.480027</td>\n",
       "      <td>-0.127706</td>\n",
       "    </tr>\n",
       "    <tr>\n",
       "      <th>1</th>\n",
       "      <td>-2.080961</td>\n",
       "      <td>-0.674134</td>\n",
       "      <td>-0.234609</td>\n",
       "    </tr>\n",
       "    <tr>\n",
       "      <th>2</th>\n",
       "      <td>-2.364229</td>\n",
       "      <td>-0.341908</td>\n",
       "      <td>0.044201</td>\n",
       "    </tr>\n",
       "    <tr>\n",
       "      <th>3</th>\n",
       "      <td>-2.299384</td>\n",
       "      <td>-0.597395</td>\n",
       "      <td>0.091290</td>\n",
       "    </tr>\n",
       "    <tr>\n",
       "      <th>4</th>\n",
       "      <td>-2.389842</td>\n",
       "      <td>0.646835</td>\n",
       "      <td>0.015738</td>\n",
       "    </tr>\n",
       "    <tr>\n",
       "      <th>...</th>\n",
       "      <td>...</td>\n",
       "      <td>...</td>\n",
       "      <td>...</td>\n",
       "    </tr>\n",
       "    <tr>\n",
       "      <th>145</th>\n",
       "      <td>1.870503</td>\n",
       "      <td>0.386966</td>\n",
       "      <td>0.256274</td>\n",
       "    </tr>\n",
       "    <tr>\n",
       "      <th>146</th>\n",
       "      <td>1.564580</td>\n",
       "      <td>-0.896687</td>\n",
       "      <td>-0.026371</td>\n",
       "    </tr>\n",
       "    <tr>\n",
       "      <th>147</th>\n",
       "      <td>1.521170</td>\n",
       "      <td>0.269069</td>\n",
       "      <td>0.180178</td>\n",
       "    </tr>\n",
       "    <tr>\n",
       "      <th>148</th>\n",
       "      <td>1.372788</td>\n",
       "      <td>1.011254</td>\n",
       "      <td>0.933395</td>\n",
       "    </tr>\n",
       "    <tr>\n",
       "      <th>149</th>\n",
       "      <td>0.960656</td>\n",
       "      <td>-0.024332</td>\n",
       "      <td>0.528249</td>\n",
       "    </tr>\n",
       "  </tbody>\n",
       "</table>\n",
       "<p>150 rows × 3 columns</p>\n",
       "</div>"
      ],
      "text/plain": [
       "          PC1       PC2       PC3\n",
       "0   -2.264703  0.480027 -0.127706\n",
       "1   -2.080961 -0.674134 -0.234609\n",
       "2   -2.364229 -0.341908  0.044201\n",
       "3   -2.299384 -0.597395  0.091290\n",
       "4   -2.389842  0.646835  0.015738\n",
       "..        ...       ...       ...\n",
       "145  1.870503  0.386966  0.256274\n",
       "146  1.564580 -0.896687 -0.026371\n",
       "147  1.521170  0.269069  0.180178\n",
       "148  1.372788  1.011254  0.933395\n",
       "149  0.960656 -0.024332  0.528249\n",
       "\n",
       "[150 rows x 3 columns]"
      ]
     },
     "execution_count": 28,
     "metadata": {},
     "output_type": "execute_result"
    }
   ],
   "source": [
    "scores = pca.transform(x)\n",
    "scores_df = pd.DataFrame(scores, columns = ['PC1', 'PC2', 'PC3'])\n",
    "scores_df"
   ]
  },
  {
   "cell_type": "code",
   "execution_count": 30,
   "metadata": {},
   "outputs": [],
   "source": [
    "y_label = []\n",
    "\n",
    "for i in y:\n",
    "    if i == 0:\n",
    "        y_label.append('setosa')\n",
    "    elif i == 1:\n",
    "        y_label.append('versicolor')\n",
    "    else:\n",
    "        y_label.append('virginica')\n",
    "        \n",
    "species = pd.DataFrame(y_label, columns=['species'])\n",
    "\n",
    "df_scores = pd.concat([scores_df, species], axis=1)"
   ]
  },
  {
   "cell_type": "code",
   "execution_count": 32,
   "metadata": {},
   "outputs": [
    {
     "data": {
      "text/html": [
       "<div>\n",
       "<style scoped>\n",
       "    .dataframe tbody tr th:only-of-type {\n",
       "        vertical-align: middle;\n",
       "    }\n",
       "\n",
       "    .dataframe tbody tr th {\n",
       "        vertical-align: top;\n",
       "    }\n",
       "\n",
       "    .dataframe thead th {\n",
       "        text-align: right;\n",
       "    }\n",
       "</style>\n",
       "<table border=\"1\" class=\"dataframe\">\n",
       "  <thead>\n",
       "    <tr style=\"text-align: right;\">\n",
       "      <th></th>\n",
       "      <th>PC1</th>\n",
       "      <th>PC2</th>\n",
       "      <th>PC3</th>\n",
       "    </tr>\n",
       "  </thead>\n",
       "  <tbody>\n",
       "    <tr>\n",
       "      <th>sepal length (cm)</th>\n",
       "      <td>0.521066</td>\n",
       "      <td>0.377418</td>\n",
       "      <td>-0.719566</td>\n",
       "    </tr>\n",
       "    <tr>\n",
       "      <th>sepal width (cm)</th>\n",
       "      <td>-0.269347</td>\n",
       "      <td>0.923296</td>\n",
       "      <td>0.244382</td>\n",
       "    </tr>\n",
       "    <tr>\n",
       "      <th>petal length (cm)</th>\n",
       "      <td>0.580413</td>\n",
       "      <td>0.024492</td>\n",
       "      <td>0.142126</td>\n",
       "    </tr>\n",
       "    <tr>\n",
       "      <th>petal width (cm)</th>\n",
       "      <td>0.564857</td>\n",
       "      <td>0.066942</td>\n",
       "      <td>0.634273</td>\n",
       "    </tr>\n",
       "  </tbody>\n",
       "</table>\n",
       "</div>"
      ],
      "text/plain": [
       "                        PC1       PC2       PC3\n",
       "sepal length (cm)  0.521066  0.377418 -0.719566\n",
       "sepal width (cm)  -0.269347  0.923296  0.244382\n",
       "petal length (cm)  0.580413  0.024492  0.142126\n",
       "petal width (cm)   0.564857  0.066942  0.634273"
      ]
     },
     "execution_count": 32,
     "metadata": {},
     "output_type": "execute_result"
    }
   ],
   "source": [
    "loadings = pca.components_.T\n",
    "df_loadings = pd.DataFrame(loadings, columns = ['PC1', 'PC2', 'PC3'], index = iris.feature_names)\n",
    "df_loadings"
   ]
  },
  {
   "cell_type": "code",
   "execution_count": 33,
   "metadata": {},
   "outputs": [
    {
     "data": {
      "text/plain": [
       "array([0.72962445, 0.22850762, 0.03668922])"
      ]
     },
     "execution_count": 33,
     "metadata": {},
     "output_type": "execute_result"
    }
   ],
   "source": [
    "explained_variance = pca.explained_variance_ratio_\n",
    "explained_variance"
   ]
  },
  {
   "cell_type": "markdown",
   "metadata": {},
   "source": [
    "## Viikko 6"
   ]
  },
  {
   "cell_type": "markdown",
   "metadata": {},
   "source": [
    "Kuudennen luentoviikon aiheena oli ohjaamaton oppiminen, johon syvennyttiin luennolla demon kautta. Luento oli hyvä jatkumo demoluennolle 5, jossa myös käsiteltiin ohjaamatonta koneoppimista. Osallistuin katsomalla luentotallenteet jälkikäteen.\n",
    "\n",
    "Luennolla lähdettiin liikkelle ohjaamattoman koneoppimisen sovelluksista. Ohjaamatonta oppimista voidaan hyödyntää erityisesti silloin, kun ei ole tiedossa, millaisia luokka datasta halutaan erottaa. Tällöin luokkien etsiminen jää koneen tehtäväksi, ja ryvästämällä dataa eri piirteiden mukaan, kone jakaa datan luokkiin, jotka ovat keskenään mahdollismman samankaltaisia, ja samaan aikaan mahdollisimman erilaisia muiden ryppäiden kanssa. Ohjaamattomassa oppimisessa analyytikon tehtävänä on oikeastaa päättää, kuinka monta klusteria (rypästä) datasta on järkevää erottaa. Tässä auttaa luennolla esitetty \"kyynärpääsääntö\", eli [Scree plot](https://en.wikipedia.org/wiki/Scree_plot). Sääntö on tuttu edellisellä viikolla katsomastani PCA-videosta.\n",
    "\n",
    "<img src=\"https://image.slidesharecdn.com/beginwithmachinelearning-170129104229/95/begin-with-machine-learning-55-638.jpg?cb=1485686565\" width=400 height=400 />\n",
    "\n",
    "Yhtälailla tärkeää niin ohjatussa kuin ohjaamattomassakin koneoppimisessa on arvioida opitun mallin toimivuutta ja koneen kykyä ennustaa mallin, ja siihen syötetyn datan perusteella. Mielestäni luennolla nostettiin hyvin esiin, että ennustaminen voi olla epätarkkaa niin datasta, algoritmista kuin analyytikostakin johtuvista syistä.\n",
    "\n",
    "Luennon toisella puoliskolla palattiin vielä luonnollisen kielen käsittelyyn ja perehdyttiin aihemallinnukseen, jossa koneen tavoitteena on löytää sille syötetystä tekstidatasta erilaisia luokkia tai \"aiheita\". Näitä aiheita hyödyntämällä voidaan sitten luoda erilaisia malleja tai tehdä päätelmiä muista dataseteistä, joissa samanlaisia aiheita esiintyy. Aihemallinnuksessa voi käyttää esimerkiksi [Gensim-kirjastoa](https://en.wikipedia.org/wiki/Gensim).\n",
    "\n",
    "Harjoitustyössä tein tällä viikolla monimuutjaregressiokuvaajan, jonka koodi on tämän viikon koodipätkänä.\n",
    "\n",
    "Viikon Top 5 oivallukset:\n",
    "1. Ohjattu oppiminen ei aina ole parempi vaihtoehto vaan ohjaamattomalla koneoppimisella on myös sovelluksensa.\n",
    "2. Myös datan analyysiin kannattaa suhtautua kriittisesti. Dataa ja analyysiä voidaan käsitellä niin, että ennalta päätetty tulos saadaan esiin, vaikka data ei siihen viittaisikaan.\n",
    "3. Miten klusterointi ja PCA eroavat toisistaan.\n",
    "4. Mitä aihemallinnus tarkoittaa.\n",
    "5. Aiheiden arviointi on subjektiivista ja koneelle erittäin hankalaa. Voi siis olla, että mallinnus ei välttämättä tuota tuloksia, joita voitaisiin millään tavalla hyödyntää tai pitää luotettavina."
   ]
  },
  {
   "cell_type": "code",
   "execution_count": null,
   "metadata": {},
   "outputs": [],
   "source": [
    "lr = linear_model.LinearRegression()\n",
    "\n",
    "y = mean_df.price\n",
    "x = mean_df[['availability_30', 'Citymonitor', 'counts']]\n",
    "\n",
    "predict = cross_val_predict(lr, x, y, cv=10)\n",
    "\n",
    "fig, ax = plt.subplots(figsize=(20, 10))\n",
    "ax.scatter(y, predict, edgecolors=(0, 0, 0))\n",
    "ax.plot([y.min(), y.max()], [y.min(), y.max()], 'k--', lw=4)\n",
    "ax.set_xlabel('Measured')\n",
    "ax.set_ylabel('Predicted')\n",
    "plt.show()"
   ]
  },
  {
   "cell_type": "markdown",
   "metadata": {},
   "source": [
    "## Viikko 7"
   ]
  },
  {
   "cell_type": "markdown",
   "metadata": {},
   "source": [
    "Viikolla seitsemän jätettiin koneoppiminen taakse ja aihe, johon syvennyttiin, oli visuaalinen analytiikka. Visuaalisuuden kautta data tulee saavutettavaksi, mikä on erityisen tärkeää, jos dataa halutaan kommunikoida tai jos dataa tulisi ymmärtää sellaisen henkilö, jolla ei ole datatieteellistä osaamista. Katsoin viimeisenkin luennon tallenteena luentoajankohdan jälkeen.\n",
    "\n",
    "Datan visualisoinnilla tarkoitetaan sitä, että käsiteltävä data muutetaan kaavioksi tai muuksi visuaaliseksi esitykseksi, jota ihmisen on helppo ymmärtää. Visuaaliset esitykset ovat nimenomaan ihmisiä varten tehtäviä, sillä kone osaa tulkita dataa aivan yhtä hyvin myös numeerisessa muodossa. Datan visualisointi ja koneoppiminen kuitenkin tukevat jossain määrin toisiaan, esimerkiksi sitä kautta, että tutkija löytää datasta piirteitä, joiden avulla hän voi luoda koneelle paremman oppimismallin. Kuvailemisen ohella, tällainen eksploratiivinen, tai tutkimusmatkaileva, analytiikka onkin visuaalisen analytiikan tärkeimppiä sovelluksia.\n",
    "\n",
    "Vaikka visuaalisen tuotoksen luominen datasta voi vaikuttaa ikään kuin lopputuotteelta, on tärkeää huomata, että datan visualisointi on iteratiivinen prosessi ja ensimmäinen visuaalinen tusin on se kaikkein kattavin. Visuaalisen analytiikan kautta voidaan löytää esimerkiksi uusia tutkimusogelmia, joihin ei ole osattu vielä varautua, tai virheitä datasetissä, mitkä vääristävät tehtyä analyysiä. Lopullinen analyysi on myös arvioitava ja visuaalisista tuototkista varmistuttava, että ne välittävät niitä tutkivalle asiaan perehtymättömälle ihmiselle oikeanlaista tietoa datasta.\n",
    "\n",
    "Visuaalinen analytiikka voi toimia myyntivalttina tai jopa päätuotteena nykypäivän liike-elämässä. Luennon loppupuolella käytiin hieman läpi streamlit-nimistä työkalua, jolla voi koodata erilaisia visuaalisia esityksiä annetusta datasta interaktiiviseksi sivuksi. Streamlitin tai vastaavan työkalun opetteleminen voisi olla oman urakehityksen kannalta mielenkiintoista, sillä visualisoinnin kautta myös oma osaaminen on helpompi myydä tulevaisuuden työnantajille. Luennolla väläytetty Tampereen yliopiston opintojakso HTIS59 Information Visualization vaikutti tässä mielessä mielenkiintoiselta.\n",
    "\n",
    "Viikon koodina kokeilin visualisointeja plotlyllä, jota käytettiin viikolla 5 katsomassani PCA-videossa.\n",
    "\n",
    "Viikon Top 5 oivallukset:\n",
    "1. Tärkeää huomata, että liiallinen automaatio ei välttämättä ole hyväksi, vaan saattaa aiheuttaa asiantuntijan passivoitumista, kun hän luottaa koneen tuottamaan analyysiin liikaa.\n",
    "2. Visuaalinen analyysi on iteratiivinen prosessi. Tuotettu visuaalinen kuvaus datasta ei välttämättä ole lopputuote vaan saattaa sysätä analyytikon hankkimaan ja muokkaamaan dataa lisää.\n",
    "3. Visualisointi ei ole vain sitä varten, että ihmisten on helppo tulkita dataa ja tehdä päätelmiä. Eksploratiivinen analytiikka on myös tärkeä osa datan visualisointia.\n",
    "4. Interaktiivinen visualisointi on nykypäivää\n",
    "5. Visuaalisissa esityksissä on valtavasti eroja ja oikeanlainen kaavio/malli tulee valita huolella. Mikään yksittäinen kaavio ei sovi mille tahansa datatyypille.\n"
   ]
  },
  {
   "cell_type": "code",
   "execution_count": 39,
   "metadata": {},
   "outputs": [
    {
     "name": "stdout",
     "output_type": "stream",
     "text": [
      "Collecting plotly==4.14.3\n",
      "  Downloading plotly-4.14.3-py2.py3-none-any.whl (13.2 MB)\n",
      "\u001b[K     |████████████████████████████████| 13.2 MB 6.8 MB/s eta 0:00:01\n",
      "\u001b[?25hRequirement already satisfied: six in /Users/valtterikivela/opt/anaconda3/lib/python3.8/site-packages (from plotly==4.14.3) (1.15.0)\n",
      "Collecting retrying>=1.3.3\n",
      "  Downloading retrying-1.3.3.tar.gz (10 kB)\n",
      "Building wheels for collected packages: retrying\n",
      "  Building wheel for retrying (setup.py) ... \u001b[?25ldone\n",
      "\u001b[?25h  Created wheel for retrying: filename=retrying-1.3.3-py3-none-any.whl size=11429 sha256=98afc258e598495f680446eb1b5f787e240f13ef2ff1b4c347491deba206c48f\n",
      "  Stored in directory: /Users/valtterikivela/Library/Caches/pip/wheels/c4/a7/48/0a434133f6d56e878ca511c0e6c38326907c0792f67b476e56\n",
      "Successfully built retrying\n",
      "Installing collected packages: retrying, plotly\n",
      "Successfully installed plotly-4.14.3 retrying-1.3.3\n"
     ]
    }
   ],
   "source": [
    "! pip install plotly==4.14.3\n"
   ]
  },
  {
   "cell_type": "code",
   "execution_count": 43,
   "metadata": {
    "scrolled": true
   },
   "outputs": [
    {
     "data": {
      "application/vnd.plotly.v1+json": {
       "config": {
        "plotlyServerURL": "https://plot.ly"
       },
       "data": [
        {
         "type": "bar",
         "y": [
          2,
          3,
          1
         ]
        }
       ],
       "layout": {
        "template": {
         "data": {
          "bar": [
           {
            "error_x": {
             "color": "#2a3f5f"
            },
            "error_y": {
             "color": "#2a3f5f"
            },
            "marker": {
             "line": {
              "color": "#E5ECF6",
              "width": 0.5
             }
            },
            "type": "bar"
           }
          ],
          "barpolar": [
           {
            "marker": {
             "line": {
              "color": "#E5ECF6",
              "width": 0.5
             }
            },
            "type": "barpolar"
           }
          ],
          "carpet": [
           {
            "aaxis": {
             "endlinecolor": "#2a3f5f",
             "gridcolor": "white",
             "linecolor": "white",
             "minorgridcolor": "white",
             "startlinecolor": "#2a3f5f"
            },
            "baxis": {
             "endlinecolor": "#2a3f5f",
             "gridcolor": "white",
             "linecolor": "white",
             "minorgridcolor": "white",
             "startlinecolor": "#2a3f5f"
            },
            "type": "carpet"
           }
          ],
          "choropleth": [
           {
            "colorbar": {
             "outlinewidth": 0,
             "ticks": ""
            },
            "type": "choropleth"
           }
          ],
          "contour": [
           {
            "colorbar": {
             "outlinewidth": 0,
             "ticks": ""
            },
            "colorscale": [
             [
              0,
              "#0d0887"
             ],
             [
              0.1111111111111111,
              "#46039f"
             ],
             [
              0.2222222222222222,
              "#7201a8"
             ],
             [
              0.3333333333333333,
              "#9c179e"
             ],
             [
              0.4444444444444444,
              "#bd3786"
             ],
             [
              0.5555555555555556,
              "#d8576b"
             ],
             [
              0.6666666666666666,
              "#ed7953"
             ],
             [
              0.7777777777777778,
              "#fb9f3a"
             ],
             [
              0.8888888888888888,
              "#fdca26"
             ],
             [
              1,
              "#f0f921"
             ]
            ],
            "type": "contour"
           }
          ],
          "contourcarpet": [
           {
            "colorbar": {
             "outlinewidth": 0,
             "ticks": ""
            },
            "type": "contourcarpet"
           }
          ],
          "heatmap": [
           {
            "colorbar": {
             "outlinewidth": 0,
             "ticks": ""
            },
            "colorscale": [
             [
              0,
              "#0d0887"
             ],
             [
              0.1111111111111111,
              "#46039f"
             ],
             [
              0.2222222222222222,
              "#7201a8"
             ],
             [
              0.3333333333333333,
              "#9c179e"
             ],
             [
              0.4444444444444444,
              "#bd3786"
             ],
             [
              0.5555555555555556,
              "#d8576b"
             ],
             [
              0.6666666666666666,
              "#ed7953"
             ],
             [
              0.7777777777777778,
              "#fb9f3a"
             ],
             [
              0.8888888888888888,
              "#fdca26"
             ],
             [
              1,
              "#f0f921"
             ]
            ],
            "type": "heatmap"
           }
          ],
          "heatmapgl": [
           {
            "colorbar": {
             "outlinewidth": 0,
             "ticks": ""
            },
            "colorscale": [
             [
              0,
              "#0d0887"
             ],
             [
              0.1111111111111111,
              "#46039f"
             ],
             [
              0.2222222222222222,
              "#7201a8"
             ],
             [
              0.3333333333333333,
              "#9c179e"
             ],
             [
              0.4444444444444444,
              "#bd3786"
             ],
             [
              0.5555555555555556,
              "#d8576b"
             ],
             [
              0.6666666666666666,
              "#ed7953"
             ],
             [
              0.7777777777777778,
              "#fb9f3a"
             ],
             [
              0.8888888888888888,
              "#fdca26"
             ],
             [
              1,
              "#f0f921"
             ]
            ],
            "type": "heatmapgl"
           }
          ],
          "histogram": [
           {
            "marker": {
             "colorbar": {
              "outlinewidth": 0,
              "ticks": ""
             }
            },
            "type": "histogram"
           }
          ],
          "histogram2d": [
           {
            "colorbar": {
             "outlinewidth": 0,
             "ticks": ""
            },
            "colorscale": [
             [
              0,
              "#0d0887"
             ],
             [
              0.1111111111111111,
              "#46039f"
             ],
             [
              0.2222222222222222,
              "#7201a8"
             ],
             [
              0.3333333333333333,
              "#9c179e"
             ],
             [
              0.4444444444444444,
              "#bd3786"
             ],
             [
              0.5555555555555556,
              "#d8576b"
             ],
             [
              0.6666666666666666,
              "#ed7953"
             ],
             [
              0.7777777777777778,
              "#fb9f3a"
             ],
             [
              0.8888888888888888,
              "#fdca26"
             ],
             [
              1,
              "#f0f921"
             ]
            ],
            "type": "histogram2d"
           }
          ],
          "histogram2dcontour": [
           {
            "colorbar": {
             "outlinewidth": 0,
             "ticks": ""
            },
            "colorscale": [
             [
              0,
              "#0d0887"
             ],
             [
              0.1111111111111111,
              "#46039f"
             ],
             [
              0.2222222222222222,
              "#7201a8"
             ],
             [
              0.3333333333333333,
              "#9c179e"
             ],
             [
              0.4444444444444444,
              "#bd3786"
             ],
             [
              0.5555555555555556,
              "#d8576b"
             ],
             [
              0.6666666666666666,
              "#ed7953"
             ],
             [
              0.7777777777777778,
              "#fb9f3a"
             ],
             [
              0.8888888888888888,
              "#fdca26"
             ],
             [
              1,
              "#f0f921"
             ]
            ],
            "type": "histogram2dcontour"
           }
          ],
          "mesh3d": [
           {
            "colorbar": {
             "outlinewidth": 0,
             "ticks": ""
            },
            "type": "mesh3d"
           }
          ],
          "parcoords": [
           {
            "line": {
             "colorbar": {
              "outlinewidth": 0,
              "ticks": ""
             }
            },
            "type": "parcoords"
           }
          ],
          "pie": [
           {
            "automargin": true,
            "type": "pie"
           }
          ],
          "scatter": [
           {
            "marker": {
             "colorbar": {
              "outlinewidth": 0,
              "ticks": ""
             }
            },
            "type": "scatter"
           }
          ],
          "scatter3d": [
           {
            "line": {
             "colorbar": {
              "outlinewidth": 0,
              "ticks": ""
             }
            },
            "marker": {
             "colorbar": {
              "outlinewidth": 0,
              "ticks": ""
             }
            },
            "type": "scatter3d"
           }
          ],
          "scattercarpet": [
           {
            "marker": {
             "colorbar": {
              "outlinewidth": 0,
              "ticks": ""
             }
            },
            "type": "scattercarpet"
           }
          ],
          "scattergeo": [
           {
            "marker": {
             "colorbar": {
              "outlinewidth": 0,
              "ticks": ""
             }
            },
            "type": "scattergeo"
           }
          ],
          "scattergl": [
           {
            "marker": {
             "colorbar": {
              "outlinewidth": 0,
              "ticks": ""
             }
            },
            "type": "scattergl"
           }
          ],
          "scattermapbox": [
           {
            "marker": {
             "colorbar": {
              "outlinewidth": 0,
              "ticks": ""
             }
            },
            "type": "scattermapbox"
           }
          ],
          "scatterpolar": [
           {
            "marker": {
             "colorbar": {
              "outlinewidth": 0,
              "ticks": ""
             }
            },
            "type": "scatterpolar"
           }
          ],
          "scatterpolargl": [
           {
            "marker": {
             "colorbar": {
              "outlinewidth": 0,
              "ticks": ""
             }
            },
            "type": "scatterpolargl"
           }
          ],
          "scatterternary": [
           {
            "marker": {
             "colorbar": {
              "outlinewidth": 0,
              "ticks": ""
             }
            },
            "type": "scatterternary"
           }
          ],
          "surface": [
           {
            "colorbar": {
             "outlinewidth": 0,
             "ticks": ""
            },
            "colorscale": [
             [
              0,
              "#0d0887"
             ],
             [
              0.1111111111111111,
              "#46039f"
             ],
             [
              0.2222222222222222,
              "#7201a8"
             ],
             [
              0.3333333333333333,
              "#9c179e"
             ],
             [
              0.4444444444444444,
              "#bd3786"
             ],
             [
              0.5555555555555556,
              "#d8576b"
             ],
             [
              0.6666666666666666,
              "#ed7953"
             ],
             [
              0.7777777777777778,
              "#fb9f3a"
             ],
             [
              0.8888888888888888,
              "#fdca26"
             ],
             [
              1,
              "#f0f921"
             ]
            ],
            "type": "surface"
           }
          ],
          "table": [
           {
            "cells": {
             "fill": {
              "color": "#EBF0F8"
             },
             "line": {
              "color": "white"
             }
            },
            "header": {
             "fill": {
              "color": "#C8D4E3"
             },
             "line": {
              "color": "white"
             }
            },
            "type": "table"
           }
          ]
         },
         "layout": {
          "annotationdefaults": {
           "arrowcolor": "#2a3f5f",
           "arrowhead": 0,
           "arrowwidth": 1
          },
          "autotypenumbers": "strict",
          "coloraxis": {
           "colorbar": {
            "outlinewidth": 0,
            "ticks": ""
           }
          },
          "colorscale": {
           "diverging": [
            [
             0,
             "#8e0152"
            ],
            [
             0.1,
             "#c51b7d"
            ],
            [
             0.2,
             "#de77ae"
            ],
            [
             0.3,
             "#f1b6da"
            ],
            [
             0.4,
             "#fde0ef"
            ],
            [
             0.5,
             "#f7f7f7"
            ],
            [
             0.6,
             "#e6f5d0"
            ],
            [
             0.7,
             "#b8e186"
            ],
            [
             0.8,
             "#7fbc41"
            ],
            [
             0.9,
             "#4d9221"
            ],
            [
             1,
             "#276419"
            ]
           ],
           "sequential": [
            [
             0,
             "#0d0887"
            ],
            [
             0.1111111111111111,
             "#46039f"
            ],
            [
             0.2222222222222222,
             "#7201a8"
            ],
            [
             0.3333333333333333,
             "#9c179e"
            ],
            [
             0.4444444444444444,
             "#bd3786"
            ],
            [
             0.5555555555555556,
             "#d8576b"
            ],
            [
             0.6666666666666666,
             "#ed7953"
            ],
            [
             0.7777777777777778,
             "#fb9f3a"
            ],
            [
             0.8888888888888888,
             "#fdca26"
            ],
            [
             1,
             "#f0f921"
            ]
           ],
           "sequentialminus": [
            [
             0,
             "#0d0887"
            ],
            [
             0.1111111111111111,
             "#46039f"
            ],
            [
             0.2222222222222222,
             "#7201a8"
            ],
            [
             0.3333333333333333,
             "#9c179e"
            ],
            [
             0.4444444444444444,
             "#bd3786"
            ],
            [
             0.5555555555555556,
             "#d8576b"
            ],
            [
             0.6666666666666666,
             "#ed7953"
            ],
            [
             0.7777777777777778,
             "#fb9f3a"
            ],
            [
             0.8888888888888888,
             "#fdca26"
            ],
            [
             1,
             "#f0f921"
            ]
           ]
          },
          "colorway": [
           "#636efa",
           "#EF553B",
           "#00cc96",
           "#ab63fa",
           "#FFA15A",
           "#19d3f3",
           "#FF6692",
           "#B6E880",
           "#FF97FF",
           "#FECB52"
          ],
          "font": {
           "color": "#2a3f5f"
          },
          "geo": {
           "bgcolor": "white",
           "lakecolor": "white",
           "landcolor": "#E5ECF6",
           "showlakes": true,
           "showland": true,
           "subunitcolor": "white"
          },
          "hoverlabel": {
           "align": "left"
          },
          "hovermode": "closest",
          "mapbox": {
           "style": "light"
          },
          "paper_bgcolor": "white",
          "plot_bgcolor": "#E5ECF6",
          "polar": {
           "angularaxis": {
            "gridcolor": "white",
            "linecolor": "white",
            "ticks": ""
           },
           "bgcolor": "#E5ECF6",
           "radialaxis": {
            "gridcolor": "white",
            "linecolor": "white",
            "ticks": ""
           }
          },
          "scene": {
           "xaxis": {
            "backgroundcolor": "#E5ECF6",
            "gridcolor": "white",
            "gridwidth": 2,
            "linecolor": "white",
            "showbackground": true,
            "ticks": "",
            "zerolinecolor": "white"
           },
           "yaxis": {
            "backgroundcolor": "#E5ECF6",
            "gridcolor": "white",
            "gridwidth": 2,
            "linecolor": "white",
            "showbackground": true,
            "ticks": "",
            "zerolinecolor": "white"
           },
           "zaxis": {
            "backgroundcolor": "#E5ECF6",
            "gridcolor": "white",
            "gridwidth": 2,
            "linecolor": "white",
            "showbackground": true,
            "ticks": "",
            "zerolinecolor": "white"
           }
          },
          "shapedefaults": {
           "line": {
            "color": "#2a3f5f"
           }
          },
          "ternary": {
           "aaxis": {
            "gridcolor": "white",
            "linecolor": "white",
            "ticks": ""
           },
           "baxis": {
            "gridcolor": "white",
            "linecolor": "white",
            "ticks": ""
           },
           "bgcolor": "#E5ECF6",
           "caxis": {
            "gridcolor": "white",
            "linecolor": "white",
            "ticks": ""
           }
          },
          "title": {
           "x": 0.05
          },
          "xaxis": {
           "automargin": true,
           "gridcolor": "white",
           "linecolor": "white",
           "ticks": "",
           "title": {
            "standoff": 15
           },
           "zerolinecolor": "white",
           "zerolinewidth": 2
          },
          "yaxis": {
           "automargin": true,
           "gridcolor": "white",
           "linecolor": "white",
           "ticks": "",
           "title": {
            "standoff": 15
           },
           "zerolinecolor": "white",
           "zerolinewidth": 2
          }
         }
        }
       }
      },
      "text/html": [
       "<div>                            <div id=\"5cdf74af-0346-4289-86a0-5823003bc631\" class=\"plotly-graph-div\" style=\"height:525px; width:100%;\"></div>            <script type=\"text/javascript\">                require([\"plotly\"], function(Plotly) {                    window.PLOTLYENV=window.PLOTLYENV || {};                                    if (document.getElementById(\"5cdf74af-0346-4289-86a0-5823003bc631\")) {                    Plotly.newPlot(                        \"5cdf74af-0346-4289-86a0-5823003bc631\",                        [{\"type\": \"bar\", \"y\": [2, 3, 1]}],                        {\"template\": {\"data\": {\"bar\": [{\"error_x\": {\"color\": \"#2a3f5f\"}, \"error_y\": {\"color\": \"#2a3f5f\"}, \"marker\": {\"line\": {\"color\": \"#E5ECF6\", \"width\": 0.5}}, \"type\": \"bar\"}], \"barpolar\": [{\"marker\": {\"line\": {\"color\": \"#E5ECF6\", \"width\": 0.5}}, \"type\": \"barpolar\"}], \"carpet\": [{\"aaxis\": {\"endlinecolor\": \"#2a3f5f\", \"gridcolor\": \"white\", \"linecolor\": \"white\", \"minorgridcolor\": \"white\", \"startlinecolor\": \"#2a3f5f\"}, \"baxis\": {\"endlinecolor\": \"#2a3f5f\", \"gridcolor\": \"white\", \"linecolor\": \"white\", \"minorgridcolor\": \"white\", \"startlinecolor\": \"#2a3f5f\"}, \"type\": \"carpet\"}], \"choropleth\": [{\"colorbar\": {\"outlinewidth\": 0, \"ticks\": \"\"}, \"type\": \"choropleth\"}], \"contour\": [{\"colorbar\": {\"outlinewidth\": 0, \"ticks\": \"\"}, \"colorscale\": [[0.0, \"#0d0887\"], [0.1111111111111111, \"#46039f\"], [0.2222222222222222, \"#7201a8\"], [0.3333333333333333, \"#9c179e\"], [0.4444444444444444, \"#bd3786\"], [0.5555555555555556, \"#d8576b\"], [0.6666666666666666, \"#ed7953\"], [0.7777777777777778, \"#fb9f3a\"], [0.8888888888888888, \"#fdca26\"], [1.0, \"#f0f921\"]], \"type\": \"contour\"}], \"contourcarpet\": [{\"colorbar\": {\"outlinewidth\": 0, \"ticks\": \"\"}, \"type\": \"contourcarpet\"}], \"heatmap\": [{\"colorbar\": {\"outlinewidth\": 0, \"ticks\": \"\"}, \"colorscale\": [[0.0, \"#0d0887\"], [0.1111111111111111, \"#46039f\"], [0.2222222222222222, \"#7201a8\"], [0.3333333333333333, \"#9c179e\"], [0.4444444444444444, \"#bd3786\"], [0.5555555555555556, \"#d8576b\"], [0.6666666666666666, \"#ed7953\"], [0.7777777777777778, \"#fb9f3a\"], [0.8888888888888888, \"#fdca26\"], [1.0, \"#f0f921\"]], \"type\": \"heatmap\"}], \"heatmapgl\": [{\"colorbar\": {\"outlinewidth\": 0, \"ticks\": \"\"}, \"colorscale\": [[0.0, \"#0d0887\"], [0.1111111111111111, \"#46039f\"], [0.2222222222222222, \"#7201a8\"], [0.3333333333333333, \"#9c179e\"], [0.4444444444444444, \"#bd3786\"], [0.5555555555555556, \"#d8576b\"], [0.6666666666666666, \"#ed7953\"], [0.7777777777777778, \"#fb9f3a\"], [0.8888888888888888, \"#fdca26\"], [1.0, \"#f0f921\"]], \"type\": \"heatmapgl\"}], \"histogram\": [{\"marker\": {\"colorbar\": {\"outlinewidth\": 0, \"ticks\": \"\"}}, \"type\": \"histogram\"}], \"histogram2d\": [{\"colorbar\": {\"outlinewidth\": 0, \"ticks\": \"\"}, \"colorscale\": [[0.0, \"#0d0887\"], [0.1111111111111111, \"#46039f\"], [0.2222222222222222, \"#7201a8\"], [0.3333333333333333, \"#9c179e\"], [0.4444444444444444, \"#bd3786\"], [0.5555555555555556, \"#d8576b\"], [0.6666666666666666, \"#ed7953\"], [0.7777777777777778, \"#fb9f3a\"], [0.8888888888888888, \"#fdca26\"], [1.0, \"#f0f921\"]], \"type\": \"histogram2d\"}], \"histogram2dcontour\": [{\"colorbar\": {\"outlinewidth\": 0, \"ticks\": \"\"}, \"colorscale\": [[0.0, \"#0d0887\"], [0.1111111111111111, \"#46039f\"], [0.2222222222222222, \"#7201a8\"], [0.3333333333333333, \"#9c179e\"], [0.4444444444444444, \"#bd3786\"], [0.5555555555555556, \"#d8576b\"], [0.6666666666666666, \"#ed7953\"], [0.7777777777777778, \"#fb9f3a\"], [0.8888888888888888, \"#fdca26\"], [1.0, \"#f0f921\"]], \"type\": \"histogram2dcontour\"}], \"mesh3d\": [{\"colorbar\": {\"outlinewidth\": 0, \"ticks\": \"\"}, \"type\": \"mesh3d\"}], \"parcoords\": [{\"line\": {\"colorbar\": {\"outlinewidth\": 0, \"ticks\": \"\"}}, \"type\": \"parcoords\"}], \"pie\": [{\"automargin\": true, \"type\": \"pie\"}], \"scatter\": [{\"marker\": {\"colorbar\": {\"outlinewidth\": 0, \"ticks\": \"\"}}, \"type\": \"scatter\"}], \"scatter3d\": [{\"line\": {\"colorbar\": {\"outlinewidth\": 0, \"ticks\": \"\"}}, \"marker\": {\"colorbar\": {\"outlinewidth\": 0, \"ticks\": \"\"}}, \"type\": \"scatter3d\"}], \"scattercarpet\": [{\"marker\": {\"colorbar\": {\"outlinewidth\": 0, \"ticks\": \"\"}}, \"type\": \"scattercarpet\"}], \"scattergeo\": [{\"marker\": {\"colorbar\": {\"outlinewidth\": 0, \"ticks\": \"\"}}, \"type\": \"scattergeo\"}], \"scattergl\": [{\"marker\": {\"colorbar\": {\"outlinewidth\": 0, \"ticks\": \"\"}}, \"type\": \"scattergl\"}], \"scattermapbox\": [{\"marker\": {\"colorbar\": {\"outlinewidth\": 0, \"ticks\": \"\"}}, \"type\": \"scattermapbox\"}], \"scatterpolar\": [{\"marker\": {\"colorbar\": {\"outlinewidth\": 0, \"ticks\": \"\"}}, \"type\": \"scatterpolar\"}], \"scatterpolargl\": [{\"marker\": {\"colorbar\": {\"outlinewidth\": 0, \"ticks\": \"\"}}, \"type\": \"scatterpolargl\"}], \"scatterternary\": [{\"marker\": {\"colorbar\": {\"outlinewidth\": 0, \"ticks\": \"\"}}, \"type\": \"scatterternary\"}], \"surface\": [{\"colorbar\": {\"outlinewidth\": 0, \"ticks\": \"\"}, \"colorscale\": [[0.0, \"#0d0887\"], [0.1111111111111111, \"#46039f\"], [0.2222222222222222, \"#7201a8\"], [0.3333333333333333, \"#9c179e\"], [0.4444444444444444, \"#bd3786\"], [0.5555555555555556, \"#d8576b\"], [0.6666666666666666, \"#ed7953\"], [0.7777777777777778, \"#fb9f3a\"], [0.8888888888888888, \"#fdca26\"], [1.0, \"#f0f921\"]], \"type\": \"surface\"}], \"table\": [{\"cells\": {\"fill\": {\"color\": \"#EBF0F8\"}, \"line\": {\"color\": \"white\"}}, \"header\": {\"fill\": {\"color\": \"#C8D4E3\"}, \"line\": {\"color\": \"white\"}}, \"type\": \"table\"}]}, \"layout\": {\"annotationdefaults\": {\"arrowcolor\": \"#2a3f5f\", \"arrowhead\": 0, \"arrowwidth\": 1}, \"autotypenumbers\": \"strict\", \"coloraxis\": {\"colorbar\": {\"outlinewidth\": 0, \"ticks\": \"\"}}, \"colorscale\": {\"diverging\": [[0, \"#8e0152\"], [0.1, \"#c51b7d\"], [0.2, \"#de77ae\"], [0.3, \"#f1b6da\"], [0.4, \"#fde0ef\"], [0.5, \"#f7f7f7\"], [0.6, \"#e6f5d0\"], [0.7, \"#b8e186\"], [0.8, \"#7fbc41\"], [0.9, \"#4d9221\"], [1, \"#276419\"]], \"sequential\": [[0.0, \"#0d0887\"], [0.1111111111111111, \"#46039f\"], [0.2222222222222222, \"#7201a8\"], [0.3333333333333333, \"#9c179e\"], [0.4444444444444444, \"#bd3786\"], [0.5555555555555556, \"#d8576b\"], [0.6666666666666666, \"#ed7953\"], [0.7777777777777778, \"#fb9f3a\"], [0.8888888888888888, \"#fdca26\"], [1.0, \"#f0f921\"]], \"sequentialminus\": [[0.0, \"#0d0887\"], [0.1111111111111111, \"#46039f\"], [0.2222222222222222, \"#7201a8\"], [0.3333333333333333, \"#9c179e\"], [0.4444444444444444, \"#bd3786\"], [0.5555555555555556, \"#d8576b\"], [0.6666666666666666, \"#ed7953\"], [0.7777777777777778, \"#fb9f3a\"], [0.8888888888888888, \"#fdca26\"], [1.0, \"#f0f921\"]]}, \"colorway\": [\"#636efa\", \"#EF553B\", \"#00cc96\", \"#ab63fa\", \"#FFA15A\", \"#19d3f3\", \"#FF6692\", \"#B6E880\", \"#FF97FF\", \"#FECB52\"], \"font\": {\"color\": \"#2a3f5f\"}, \"geo\": {\"bgcolor\": \"white\", \"lakecolor\": \"white\", \"landcolor\": \"#E5ECF6\", \"showlakes\": true, \"showland\": true, \"subunitcolor\": \"white\"}, \"hoverlabel\": {\"align\": \"left\"}, \"hovermode\": \"closest\", \"mapbox\": {\"style\": \"light\"}, \"paper_bgcolor\": \"white\", \"plot_bgcolor\": \"#E5ECF6\", \"polar\": {\"angularaxis\": {\"gridcolor\": \"white\", \"linecolor\": \"white\", \"ticks\": \"\"}, \"bgcolor\": \"#E5ECF6\", \"radialaxis\": {\"gridcolor\": \"white\", \"linecolor\": \"white\", \"ticks\": \"\"}}, \"scene\": {\"xaxis\": {\"backgroundcolor\": \"#E5ECF6\", \"gridcolor\": \"white\", \"gridwidth\": 2, \"linecolor\": \"white\", \"showbackground\": true, \"ticks\": \"\", \"zerolinecolor\": \"white\"}, \"yaxis\": {\"backgroundcolor\": \"#E5ECF6\", \"gridcolor\": \"white\", \"gridwidth\": 2, \"linecolor\": \"white\", \"showbackground\": true, \"ticks\": \"\", \"zerolinecolor\": \"white\"}, \"zaxis\": {\"backgroundcolor\": \"#E5ECF6\", \"gridcolor\": \"white\", \"gridwidth\": 2, \"linecolor\": \"white\", \"showbackground\": true, \"ticks\": \"\", \"zerolinecolor\": \"white\"}}, \"shapedefaults\": {\"line\": {\"color\": \"#2a3f5f\"}}, \"ternary\": {\"aaxis\": {\"gridcolor\": \"white\", \"linecolor\": \"white\", \"ticks\": \"\"}, \"baxis\": {\"gridcolor\": \"white\", \"linecolor\": \"white\", \"ticks\": \"\"}, \"bgcolor\": \"#E5ECF6\", \"caxis\": {\"gridcolor\": \"white\", \"linecolor\": \"white\", \"ticks\": \"\"}}, \"title\": {\"x\": 0.05}, \"xaxis\": {\"automargin\": true, \"gridcolor\": \"white\", \"linecolor\": \"white\", \"ticks\": \"\", \"title\": {\"standoff\": 15}, \"zerolinecolor\": \"white\", \"zerolinewidth\": 2}, \"yaxis\": {\"automargin\": true, \"gridcolor\": \"white\", \"linecolor\": \"white\", \"ticks\": \"\", \"title\": {\"standoff\": 15}, \"zerolinecolor\": \"white\", \"zerolinewidth\": 2}}}},                        {\"responsive\": true}                    ).then(function(){\n",
       "                            \n",
       "var gd = document.getElementById('5cdf74af-0346-4289-86a0-5823003bc631');\n",
       "var x = new MutationObserver(function (mutations, observer) {{\n",
       "        var display = window.getComputedStyle(gd).display;\n",
       "        if (!display || display === 'none') {{\n",
       "            console.log([gd, 'removed!']);\n",
       "            Plotly.purge(gd);\n",
       "            observer.disconnect();\n",
       "        }}\n",
       "}});\n",
       "\n",
       "// Listen for the removal of the full notebook cells\n",
       "var notebookContainer = gd.closest('#notebook-container');\n",
       "if (notebookContainer) {{\n",
       "    x.observe(notebookContainer, {childList: true});\n",
       "}}\n",
       "\n",
       "// Listen for the clearing of the current output cell\n",
       "var outputEl = gd.closest('.output');\n",
       "if (outputEl) {{\n",
       "    x.observe(outputEl, {childList: true});\n",
       "}}\n",
       "\n",
       "                        })                };                });            </script>        </div>"
      ]
     },
     "metadata": {},
     "output_type": "display_data"
    }
   ],
   "source": [
    "import plotly.express as px\n",
    "\n",
    "import plotly.graph_objects as go\n",
    "fig = go.Figure(data=go.Bar(y=[2, 3, 1]))\n",
    "fig.show()"
   ]
  },
  {
   "cell_type": "code",
   "execution_count": 44,
   "metadata": {},
   "outputs": [
    {
     "data": {
      "application/vnd.plotly.v1+json": {
       "config": {
        "plotlyServerURL": "https://plot.ly"
       },
       "data": [
        {
         "hovertemplate": "PC1=%{x}<br>PC2=%{y}<br>PC3=%{z}<extra></extra>",
         "legendgroup": "",
         "marker": {
          "color": "#636efa",
          "symbol": "circle"
         },
         "mode": "markers",
         "name": "",
         "scene": "scene",
         "showlegend": false,
         "type": "scatter3d",
         "x": [
          -2.264702808807588,
          -2.080961151965766,
          -2.3642290538902992,
          -2.299384217042707,
          -2.3898421663138443,
          -2.0756309481765123,
          -2.4440288351341515,
          -2.2328471588720142,
          -2.3346404779076195,
          -2.184328174933941,
          -2.166310100701322,
          -2.3261308664426976,
          -2.2184508988224074,
          -2.633100695765226,
          -2.1987406032666903,
          -2.262214531601022,
          -2.2075876958245924,
          -2.190349509192298,
          -1.898571995802842,
          -2.343369053074993,
          -1.914322996082567,
          -2.207012843194798,
          -2.7743447029273316,
          -1.8186695286958483,
          -2.227163305706638,
          -1.9518463309003744,
          -2.0511513727294144,
          -2.1685771746542155,
          -2.139563451301331,
          -2.2652614931542394,
          -2.140122135647983,
          -1.8315947706760274,
          -2.614947935858935,
          -2.4461773916965153,
          -2.109974875318651,
          -2.2078088990782643,
          -2.045146206754201,
          -2.5273319131704852,
          -2.429632575084544,
          -2.1697107116306626,
          -2.2864751433456694,
          -1.8581224563735685,
          -2.5536383956143545,
          -1.9644476837637401,
          -2.137059005811623,
          -2.069744299591828,
          -2.3847331657782624,
          -2.394376314219632,
          -2.229446547942674,
          -2.203833435519129,
          1.1017811830529471,
          0.7313374253960869,
          1.2409793195158307,
          0.40748305881738656,
          1.0754747006090783,
          0.38868733653566545,
          0.7465297413291601,
          -0.4873227421256379,
          0.9279016383549454,
          0.011426188736981091,
          -0.11019628000062665,
          0.4406934489830785,
          0.5621083064431807,
          0.7195618886754966,
          -0.03335470317877168,
          0.8754071908577374,
          0.35025166799508284,
          0.15881004754797207,
          1.225093633562433,
          0.1649178993863285,
          0.7376826487712578,
          0.47628719094097194,
          1.23417809765715,
          0.6328581997098222,
          0.7026611831361824,
          0.8742736538812903,
          1.2565091165418836,
          1.3584051214406319,
          0.664800367225395,
          -0.04025861090059432,
          0.13079517549786204,
          0.023452688970552277,
          0.24153827295451172,
          1.0610946088426143,
          0.22397877351237988,
          0.42913911551616,
          1.0487280512090873,
          1.0445313843962802,
          0.0695883211164232,
          0.28347723828757654,
          0.27907777605546186,
          0.6245697914985715,
          0.3365303701314368,
          -0.3621833846193814,
          0.28858623882315815,
          0.09136065565450563,
          0.2277168655347005,
          0.5763882886534789,
          -0.4476670190286101,
          0.25673058888758526,
          1.8445688677230283,
          1.15788161320578,
          2.2052667910753776,
          1.4401506638275394,
          1.8678122203305374,
          2.7518733356662763,
          0.3670176878607257,
          2.302439444625197,
          2.0066864676766065,
          2.259777349012499,
          1.3641754921860074,
          1.6026786704779308,
          1.8839007017032423,
          1.2601150991975087,
          1.4676452010173242,
          1.590077317614565,
          1.471431461133318,
          2.426328987315699,
          3.310695583933888,
          1.2637666736398296,
          2.037716301469404,
          0.977980734249422,
          2.8976514907341686,
          1.333232175973209,
          1.7007338974912165,
          1.9543267058530702,
          1.1751036315549328,
          1.020950550695791,
          1.788349920179666,
          1.8636475533282606,
          2.4359537279227035,
          2.3049277218317625,
          1.8627032197949558,
          1.1141477406864748,
          1.2024733016783915,
          2.7987704475781077,
          1.5762559101947533,
          1.3462921036270614,
          0.9248249165424194,
          1.8520450517676696,
          2.0148104299548755,
          1.9017840902621885,
          1.15788161320578,
          2.0405582280520917,
          1.9981470959523755,
          1.8705032929564105,
          1.564580483030329,
          1.5211704996278375,
          1.372787789514072,
          0.9606560300371276
         ],
         "y": [
          0.48002659652098906,
          -0.6741335566053535,
          -0.34190802388467645,
          -0.597394507674676,
          0.646835382902027,
          1.489177523321167,
          0.04764419763001415,
          0.22314807268959164,
          -1.1153276754616668,
          -0.4690135614023762,
          1.0436906530538597,
          0.13307833523923152,
          -0.7286761653165712,
          -0.9615067291701636,
          1.8600571132939316,
          2.686284485110593,
          1.483609363155573,
          0.48883831648632753,
          1.4050187944665495,
          1.1278493819084763,
          0.40885570775590596,
          0.9241214267468982,
          0.45834366775291546,
          0.08555852628736588,
          0.13725445536342717,
          -0.6256185877766771,
          0.242163552661667,
          0.5271495253082672,
          0.3132178101399516,
          -0.3377319037604807,
          -0.5045406901415187,
          0.4236950676037857,
          1.793575856104429,
          2.150727877392925,
          -0.4602018414370378,
          -0.2061073976884372,
          0.6615581114631078,
          0.5922927741908093,
          -0.9041800403761484,
          0.2688789614354707,
          0.44171538769904994,
          -2.337415157553349,
          -0.47910069012231427,
          0.4723266677192608,
          1.1422292620394088,
          -0.7110527253858945,
          1.1204297019845364,
          -0.38624687258915746,
          0.9979597643079803,
          0.009216357521275864,
          0.8629724182621591,
          0.5946147256694247,
          0.6162976544374985,
          -1.754403989323411,
          -0.20842104605096573,
          -0.5932836359900754,
          0.7730193120985969,
          -1.8524290868575748,
          0.03222607789115367,
          -1.034018275129441,
          -2.654072818536566,
          -0.06329518843800142,
          -1.7647243806169461,
          -0.18622460583150585,
          -0.43900320998162484,
          0.5090639567734085,
          -0.19631173455144396,
          -0.7920957424327217,
          -1.6222438030915027,
          -1.3026092302957732,
          0.39657156196023935,
          -0.41732028121355125,
          -0.9333257287992789,
          -0.4163877208890998,
          -0.06341181972480031,
          0.250793392900612,
          -0.07725601969586932,
          0.33131168179089815,
          -0.22592785469484367,
          -1.0587185465539093,
          -1.5622718342099682,
          -1.572475594216705,
          -0.777256382584842,
          -0.6338432447349469,
          -0.28777351204320223,
          0.8455822409050792,
          0.5220517968629427,
          -1.3829887191907824,
          -0.21950333464771501,
          -1.329324639069577,
          -1.1200285237424041,
          0.02492302925401263,
          -0.9884040176703606,
          -2.0192378732386125,
          -0.8557303199870665,
          -0.18119212582577532,
          -0.384920080987354,
          -0.15487359721655897,
          -1.543792034397757,
          -0.5988517961556696,
          0.8704213123248239,
          -0.6988698623306904,
          0.5620104770083558,
          -0.046987588105806444,
          0.29504482445702007,
          0.8004092010275423,
          -1.5615028914765061,
          0.42006557964277647,
          -0.7114386535471593,
          1.9210103764598874,
          0.6927564544903875,
          -0.4217004497726173,
          0.41924965060512376,
          -1.162260421406464,
          -0.4422715873770823,
          0.6762448057233206,
          0.25562182447147064,
          2.5566612507954933,
          0.017780949320627015,
          -1.7067453803762684,
          0.9104674096183114,
          -0.5717643248129917,
          0.4136410595956478,
          -0.4818112186494294,
          1.0139218673227919,
          1.0077775961534527,
          -0.3163944723097911,
          0.06434602923956201,
          -0.18736121459082872,
          0.5622907258861447,
          0.2592844331442801,
          2.6263234682323793,
          -0.1785494946254903,
          -0.2929226233357316,
          -0.8113152708396689,
          0.8568033294971057,
          1.0685811073208085,
          0.42243061085250855,
          0.017223100452284326,
          0.6761281744365217,
          0.6138856369235755,
          0.6895754942430029,
          -0.6988698623306904,
          0.867520600955229,
          1.0491687471841455,
          0.38696608166572577,
          -0.8966868088965267,
          0.2690691442779518,
          1.0112544185267938,
          -0.024331668169399148
         ],
         "z": [
          -0.12770602230015243,
          -0.23460885398456788,
          0.044201484838743754,
          0.09129010632068235,
          0.01573819567625878,
          0.02696829443978188,
          0.3354704011431141,
          -0.08869549794772635,
          0.145076863637,
          -0.25376556730000666,
          -0.2686811022161347,
          0.09375924438111172,
          -0.23091123720660278,
          0.1807960844031793,
          -0.4729009978730771,
          0.030526609265510783,
          -0.005344094078264139,
          -0.04421531647845384,
          -0.3743432745576548,
          0.13263046678130236,
          -0.42129259408735664,
          0.15986527722625293,
          0.33217909755686625,
          0.03448859579998115,
          0.11799353576964622,
          -0.305640982325208,
          0.0863640108251823,
          -0.2068162477703046,
          -0.27115024027656437,
          0.06843577622727826,
          -0.07500844174913301,
          -0.27046737670298243,
          0.04722841866848637,
          -0.08266804506156777,
          -0.17027486147830806,
          -0.22544158008975734,
          -0.48453740982831733,
          0.019435812454223322,
          0.1932546618842368,
          -0.17588382054738916,
          0.03489490899169745,
          -0.20423422253096546,
          0.3057664526377334,
          0.30960131784532763,
          0.248433561121047,
          -0.06392982556320581,
          0.05721785808911539,
          0.13946790456791913,
          -0.18149277961647098,
          -0.15302949045398617,
          -0.6845861626897374,
          -0.09412171552908233,
          -0.5540068353861012,
          -0.02310176781380191,
          -0.3982555225062272,
          0.12419154951817021,
          0.14896940252805113,
          0.24926526578924935,
          -0.5961693613725388,
          0.538899390184368,
          -0.04679044405838373,
          0.2050738153272028,
          -0.7657713936539623,
          -0.06865894542301261,
          0.19493289332897884,
          -0.5035113816560306,
          0.4908730745147277,
          -0.3020371744413826,
          -0.4823040240972385,
          -0.17283780843287683,
          0.6165263063228642,
          -0.26495222652803985,
          -0.3684122720486106,
          -0.291896252443158,
          -0.44602700756174746,
          -0.47257895443311504,
          -0.7271550018678926,
          -0.2608265767906141,
          0.08586388873932596,
          -0.31957332999553695,
          -0.14998347833947373,
          -0.2415522812906839,
          -0.1512119570570084,
          0.10531138658459717,
          0.6652497197140537,
          0.450634071444766,
          -0.3957863844457975,
          -0.6882959600930618,
          0.29157927435328457,
          0.08941002293969477,
          0.09448760101279047,
          -0.020481147175775843,
          -0.19938975530424524,
          0.10582104781283797,
          0.1308896853525514,
          0.12897834306143374,
          0.15621315350638407,
          -0.2716503623624208,
          0.19040093039983608,
          0.0918791610001242,
          1.0054010176069879,
          0.5301601492490196,
          -0.20291416973686893,
          0.16363010683005863,
          0.3956283745532978,
          -0.582309102828605,
          0.9868932674720258,
          -0.6517064392599936,
          -0.39399057081656486,
          0.3975518974697746,
          0.2846120737568165,
          0.023186407910062545,
          0.02633840954407496,
          0.580249289787373,
          1.0038695737342604,
          0.6384287080805982,
          0.03743125987796869,
          -0.12788145946307217,
          -0.7033053039033299,
          -0.2675368932503544,
          0.23479948360032776,
          0.8281272013877701,
          -0.8574218248739522,
          -0.005428363830018212,
          0.29845061253300564,
          -0.41998472191862,
          0.12993775701688126,
          0.3377159674995531,
          0.2706580063187425,
          -0.715634118574537,
          -0.7278161456737302,
          -0.4934738076943308,
          0.3541487121404411,
          -0.183488391659343,
          -0.16472375738765382,
          -0.5429064994324291,
          0.9458538186439913,
          0.18087547785438002,
          0.4168261929697046,
          -0.012672114808351953,
          0.42833284211509315,
          0.1300750054465103,
          0.5301601492490196,
          0.3381440004590145,
          0.6324134358197999,
          0.25627385239860023,
          -0.026371351632304862,
          0.18017838013283138,
          0.9333952411629328,
          0.528248806957902
         ]
        }
       ],
       "layout": {
        "legend": {
         "tracegroupgap": 0
        },
        "margin": {
         "t": 60
        },
        "scene": {
         "domain": {
          "x": [
           0,
           1
          ],
          "y": [
           0,
           1
          ]
         },
         "xaxis": {
          "title": {
           "text": "PC1"
          }
         },
         "yaxis": {
          "title": {
           "text": "PC2"
          }
         },
         "zaxis": {
          "title": {
           "text": "PC3"
          }
         }
        },
        "template": {
         "data": {
          "bar": [
           {
            "error_x": {
             "color": "#2a3f5f"
            },
            "error_y": {
             "color": "#2a3f5f"
            },
            "marker": {
             "line": {
              "color": "#E5ECF6",
              "width": 0.5
             }
            },
            "type": "bar"
           }
          ],
          "barpolar": [
           {
            "marker": {
             "line": {
              "color": "#E5ECF6",
              "width": 0.5
             }
            },
            "type": "barpolar"
           }
          ],
          "carpet": [
           {
            "aaxis": {
             "endlinecolor": "#2a3f5f",
             "gridcolor": "white",
             "linecolor": "white",
             "minorgridcolor": "white",
             "startlinecolor": "#2a3f5f"
            },
            "baxis": {
             "endlinecolor": "#2a3f5f",
             "gridcolor": "white",
             "linecolor": "white",
             "minorgridcolor": "white",
             "startlinecolor": "#2a3f5f"
            },
            "type": "carpet"
           }
          ],
          "choropleth": [
           {
            "colorbar": {
             "outlinewidth": 0,
             "ticks": ""
            },
            "type": "choropleth"
           }
          ],
          "contour": [
           {
            "colorbar": {
             "outlinewidth": 0,
             "ticks": ""
            },
            "colorscale": [
             [
              0,
              "#0d0887"
             ],
             [
              0.1111111111111111,
              "#46039f"
             ],
             [
              0.2222222222222222,
              "#7201a8"
             ],
             [
              0.3333333333333333,
              "#9c179e"
             ],
             [
              0.4444444444444444,
              "#bd3786"
             ],
             [
              0.5555555555555556,
              "#d8576b"
             ],
             [
              0.6666666666666666,
              "#ed7953"
             ],
             [
              0.7777777777777778,
              "#fb9f3a"
             ],
             [
              0.8888888888888888,
              "#fdca26"
             ],
             [
              1,
              "#f0f921"
             ]
            ],
            "type": "contour"
           }
          ],
          "contourcarpet": [
           {
            "colorbar": {
             "outlinewidth": 0,
             "ticks": ""
            },
            "type": "contourcarpet"
           }
          ],
          "heatmap": [
           {
            "colorbar": {
             "outlinewidth": 0,
             "ticks": ""
            },
            "colorscale": [
             [
              0,
              "#0d0887"
             ],
             [
              0.1111111111111111,
              "#46039f"
             ],
             [
              0.2222222222222222,
              "#7201a8"
             ],
             [
              0.3333333333333333,
              "#9c179e"
             ],
             [
              0.4444444444444444,
              "#bd3786"
             ],
             [
              0.5555555555555556,
              "#d8576b"
             ],
             [
              0.6666666666666666,
              "#ed7953"
             ],
             [
              0.7777777777777778,
              "#fb9f3a"
             ],
             [
              0.8888888888888888,
              "#fdca26"
             ],
             [
              1,
              "#f0f921"
             ]
            ],
            "type": "heatmap"
           }
          ],
          "heatmapgl": [
           {
            "colorbar": {
             "outlinewidth": 0,
             "ticks": ""
            },
            "colorscale": [
             [
              0,
              "#0d0887"
             ],
             [
              0.1111111111111111,
              "#46039f"
             ],
             [
              0.2222222222222222,
              "#7201a8"
             ],
             [
              0.3333333333333333,
              "#9c179e"
             ],
             [
              0.4444444444444444,
              "#bd3786"
             ],
             [
              0.5555555555555556,
              "#d8576b"
             ],
             [
              0.6666666666666666,
              "#ed7953"
             ],
             [
              0.7777777777777778,
              "#fb9f3a"
             ],
             [
              0.8888888888888888,
              "#fdca26"
             ],
             [
              1,
              "#f0f921"
             ]
            ],
            "type": "heatmapgl"
           }
          ],
          "histogram": [
           {
            "marker": {
             "colorbar": {
              "outlinewidth": 0,
              "ticks": ""
             }
            },
            "type": "histogram"
           }
          ],
          "histogram2d": [
           {
            "colorbar": {
             "outlinewidth": 0,
             "ticks": ""
            },
            "colorscale": [
             [
              0,
              "#0d0887"
             ],
             [
              0.1111111111111111,
              "#46039f"
             ],
             [
              0.2222222222222222,
              "#7201a8"
             ],
             [
              0.3333333333333333,
              "#9c179e"
             ],
             [
              0.4444444444444444,
              "#bd3786"
             ],
             [
              0.5555555555555556,
              "#d8576b"
             ],
             [
              0.6666666666666666,
              "#ed7953"
             ],
             [
              0.7777777777777778,
              "#fb9f3a"
             ],
             [
              0.8888888888888888,
              "#fdca26"
             ],
             [
              1,
              "#f0f921"
             ]
            ],
            "type": "histogram2d"
           }
          ],
          "histogram2dcontour": [
           {
            "colorbar": {
             "outlinewidth": 0,
             "ticks": ""
            },
            "colorscale": [
             [
              0,
              "#0d0887"
             ],
             [
              0.1111111111111111,
              "#46039f"
             ],
             [
              0.2222222222222222,
              "#7201a8"
             ],
             [
              0.3333333333333333,
              "#9c179e"
             ],
             [
              0.4444444444444444,
              "#bd3786"
             ],
             [
              0.5555555555555556,
              "#d8576b"
             ],
             [
              0.6666666666666666,
              "#ed7953"
             ],
             [
              0.7777777777777778,
              "#fb9f3a"
             ],
             [
              0.8888888888888888,
              "#fdca26"
             ],
             [
              1,
              "#f0f921"
             ]
            ],
            "type": "histogram2dcontour"
           }
          ],
          "mesh3d": [
           {
            "colorbar": {
             "outlinewidth": 0,
             "ticks": ""
            },
            "type": "mesh3d"
           }
          ],
          "parcoords": [
           {
            "line": {
             "colorbar": {
              "outlinewidth": 0,
              "ticks": ""
             }
            },
            "type": "parcoords"
           }
          ],
          "pie": [
           {
            "automargin": true,
            "type": "pie"
           }
          ],
          "scatter": [
           {
            "marker": {
             "colorbar": {
              "outlinewidth": 0,
              "ticks": ""
             }
            },
            "type": "scatter"
           }
          ],
          "scatter3d": [
           {
            "line": {
             "colorbar": {
              "outlinewidth": 0,
              "ticks": ""
             }
            },
            "marker": {
             "colorbar": {
              "outlinewidth": 0,
              "ticks": ""
             }
            },
            "type": "scatter3d"
           }
          ],
          "scattercarpet": [
           {
            "marker": {
             "colorbar": {
              "outlinewidth": 0,
              "ticks": ""
             }
            },
            "type": "scattercarpet"
           }
          ],
          "scattergeo": [
           {
            "marker": {
             "colorbar": {
              "outlinewidth": 0,
              "ticks": ""
             }
            },
            "type": "scattergeo"
           }
          ],
          "scattergl": [
           {
            "marker": {
             "colorbar": {
              "outlinewidth": 0,
              "ticks": ""
             }
            },
            "type": "scattergl"
           }
          ],
          "scattermapbox": [
           {
            "marker": {
             "colorbar": {
              "outlinewidth": 0,
              "ticks": ""
             }
            },
            "type": "scattermapbox"
           }
          ],
          "scatterpolar": [
           {
            "marker": {
             "colorbar": {
              "outlinewidth": 0,
              "ticks": ""
             }
            },
            "type": "scatterpolar"
           }
          ],
          "scatterpolargl": [
           {
            "marker": {
             "colorbar": {
              "outlinewidth": 0,
              "ticks": ""
             }
            },
            "type": "scatterpolargl"
           }
          ],
          "scatterternary": [
           {
            "marker": {
             "colorbar": {
              "outlinewidth": 0,
              "ticks": ""
             }
            },
            "type": "scatterternary"
           }
          ],
          "surface": [
           {
            "colorbar": {
             "outlinewidth": 0,
             "ticks": ""
            },
            "colorscale": [
             [
              0,
              "#0d0887"
             ],
             [
              0.1111111111111111,
              "#46039f"
             ],
             [
              0.2222222222222222,
              "#7201a8"
             ],
             [
              0.3333333333333333,
              "#9c179e"
             ],
             [
              0.4444444444444444,
              "#bd3786"
             ],
             [
              0.5555555555555556,
              "#d8576b"
             ],
             [
              0.6666666666666666,
              "#ed7953"
             ],
             [
              0.7777777777777778,
              "#fb9f3a"
             ],
             [
              0.8888888888888888,
              "#fdca26"
             ],
             [
              1,
              "#f0f921"
             ]
            ],
            "type": "surface"
           }
          ],
          "table": [
           {
            "cells": {
             "fill": {
              "color": "#EBF0F8"
             },
             "line": {
              "color": "white"
             }
            },
            "header": {
             "fill": {
              "color": "#C8D4E3"
             },
             "line": {
              "color": "white"
             }
            },
            "type": "table"
           }
          ]
         },
         "layout": {
          "annotationdefaults": {
           "arrowcolor": "#2a3f5f",
           "arrowhead": 0,
           "arrowwidth": 1
          },
          "autotypenumbers": "strict",
          "coloraxis": {
           "colorbar": {
            "outlinewidth": 0,
            "ticks": ""
           }
          },
          "colorscale": {
           "diverging": [
            [
             0,
             "#8e0152"
            ],
            [
             0.1,
             "#c51b7d"
            ],
            [
             0.2,
             "#de77ae"
            ],
            [
             0.3,
             "#f1b6da"
            ],
            [
             0.4,
             "#fde0ef"
            ],
            [
             0.5,
             "#f7f7f7"
            ],
            [
             0.6,
             "#e6f5d0"
            ],
            [
             0.7,
             "#b8e186"
            ],
            [
             0.8,
             "#7fbc41"
            ],
            [
             0.9,
             "#4d9221"
            ],
            [
             1,
             "#276419"
            ]
           ],
           "sequential": [
            [
             0,
             "#0d0887"
            ],
            [
             0.1111111111111111,
             "#46039f"
            ],
            [
             0.2222222222222222,
             "#7201a8"
            ],
            [
             0.3333333333333333,
             "#9c179e"
            ],
            [
             0.4444444444444444,
             "#bd3786"
            ],
            [
             0.5555555555555556,
             "#d8576b"
            ],
            [
             0.6666666666666666,
             "#ed7953"
            ],
            [
             0.7777777777777778,
             "#fb9f3a"
            ],
            [
             0.8888888888888888,
             "#fdca26"
            ],
            [
             1,
             "#f0f921"
            ]
           ],
           "sequentialminus": [
            [
             0,
             "#0d0887"
            ],
            [
             0.1111111111111111,
             "#46039f"
            ],
            [
             0.2222222222222222,
             "#7201a8"
            ],
            [
             0.3333333333333333,
             "#9c179e"
            ],
            [
             0.4444444444444444,
             "#bd3786"
            ],
            [
             0.5555555555555556,
             "#d8576b"
            ],
            [
             0.6666666666666666,
             "#ed7953"
            ],
            [
             0.7777777777777778,
             "#fb9f3a"
            ],
            [
             0.8888888888888888,
             "#fdca26"
            ],
            [
             1,
             "#f0f921"
            ]
           ]
          },
          "colorway": [
           "#636efa",
           "#EF553B",
           "#00cc96",
           "#ab63fa",
           "#FFA15A",
           "#19d3f3",
           "#FF6692",
           "#B6E880",
           "#FF97FF",
           "#FECB52"
          ],
          "font": {
           "color": "#2a3f5f"
          },
          "geo": {
           "bgcolor": "white",
           "lakecolor": "white",
           "landcolor": "#E5ECF6",
           "showlakes": true,
           "showland": true,
           "subunitcolor": "white"
          },
          "hoverlabel": {
           "align": "left"
          },
          "hovermode": "closest",
          "mapbox": {
           "style": "light"
          },
          "paper_bgcolor": "white",
          "plot_bgcolor": "#E5ECF6",
          "polar": {
           "angularaxis": {
            "gridcolor": "white",
            "linecolor": "white",
            "ticks": ""
           },
           "bgcolor": "#E5ECF6",
           "radialaxis": {
            "gridcolor": "white",
            "linecolor": "white",
            "ticks": ""
           }
          },
          "scene": {
           "xaxis": {
            "backgroundcolor": "#E5ECF6",
            "gridcolor": "white",
            "gridwidth": 2,
            "linecolor": "white",
            "showbackground": true,
            "ticks": "",
            "zerolinecolor": "white"
           },
           "yaxis": {
            "backgroundcolor": "#E5ECF6",
            "gridcolor": "white",
            "gridwidth": 2,
            "linecolor": "white",
            "showbackground": true,
            "ticks": "",
            "zerolinecolor": "white"
           },
           "zaxis": {
            "backgroundcolor": "#E5ECF6",
            "gridcolor": "white",
            "gridwidth": 2,
            "linecolor": "white",
            "showbackground": true,
            "ticks": "",
            "zerolinecolor": "white"
           }
          },
          "shapedefaults": {
           "line": {
            "color": "#2a3f5f"
           }
          },
          "ternary": {
           "aaxis": {
            "gridcolor": "white",
            "linecolor": "white",
            "ticks": ""
           },
           "baxis": {
            "gridcolor": "white",
            "linecolor": "white",
            "ticks": ""
           },
           "bgcolor": "#E5ECF6",
           "caxis": {
            "gridcolor": "white",
            "linecolor": "white",
            "ticks": ""
           }
          },
          "title": {
           "x": 0.05
          },
          "xaxis": {
           "automargin": true,
           "gridcolor": "white",
           "linecolor": "white",
           "ticks": "",
           "title": {
            "standoff": 15
           },
           "zerolinecolor": "white",
           "zerolinewidth": 2
          },
          "yaxis": {
           "automargin": true,
           "gridcolor": "white",
           "linecolor": "white",
           "ticks": "",
           "title": {
            "standoff": 15
           },
           "zerolinecolor": "white",
           "zerolinewidth": 2
          }
         }
        }
       }
      },
      "text/html": [
       "<div>                            <div id=\"734f1069-28e4-4193-91c5-21da85644c49\" class=\"plotly-graph-div\" style=\"height:525px; width:100%;\"></div>            <script type=\"text/javascript\">                require([\"plotly\"], function(Plotly) {                    window.PLOTLYENV=window.PLOTLYENV || {};                                    if (document.getElementById(\"734f1069-28e4-4193-91c5-21da85644c49\")) {                    Plotly.newPlot(                        \"734f1069-28e4-4193-91c5-21da85644c49\",                        [{\"hovertemplate\": \"PC1=%{x}<br>PC2=%{y}<br>PC3=%{z}<extra></extra>\", \"legendgroup\": \"\", \"marker\": {\"color\": \"#636efa\", \"symbol\": \"circle\"}, \"mode\": \"markers\", \"name\": \"\", \"scene\": \"scene\", \"showlegend\": false, \"type\": \"scatter3d\", \"x\": [-2.264702808807588, -2.080961151965766, -2.3642290538902992, -2.299384217042707, -2.3898421663138443, -2.0756309481765123, -2.4440288351341515, -2.2328471588720142, -2.3346404779076195, -2.184328174933941, -2.166310100701322, -2.3261308664426976, -2.2184508988224074, -2.633100695765226, -2.1987406032666903, -2.262214531601022, -2.2075876958245924, -2.190349509192298, -1.898571995802842, -2.343369053074993, -1.914322996082567, -2.207012843194798, -2.7743447029273316, -1.8186695286958483, -2.227163305706638, -1.9518463309003744, -2.0511513727294144, -2.1685771746542155, -2.139563451301331, -2.2652614931542394, -2.140122135647983, -1.8315947706760274, -2.614947935858935, -2.4461773916965153, -2.109974875318651, -2.2078088990782643, -2.045146206754201, -2.5273319131704852, -2.429632575084544, -2.1697107116306626, -2.2864751433456694, -1.8581224563735685, -2.5536383956143545, -1.9644476837637401, -2.137059005811623, -2.069744299591828, -2.3847331657782624, -2.394376314219632, -2.229446547942674, -2.203833435519129, 1.1017811830529471, 0.7313374253960869, 1.2409793195158307, 0.40748305881738656, 1.0754747006090783, 0.38868733653566545, 0.7465297413291601, -0.4873227421256379, 0.9279016383549454, 0.011426188736981091, -0.11019628000062665, 0.4406934489830785, 0.5621083064431807, 0.7195618886754966, -0.03335470317877168, 0.8754071908577374, 0.35025166799508284, 0.15881004754797207, 1.225093633562433, 0.1649178993863285, 0.7376826487712578, 0.47628719094097194, 1.23417809765715, 0.6328581997098222, 0.7026611831361824, 0.8742736538812903, 1.2565091165418836, 1.3584051214406319, 0.664800367225395, -0.04025861090059432, 0.13079517549786204, 0.023452688970552277, 0.24153827295451172, 1.0610946088426143, 0.22397877351237988, 0.42913911551616, 1.0487280512090873, 1.0445313843962802, 0.0695883211164232, 0.28347723828757654, 0.27907777605546186, 0.6245697914985715, 0.3365303701314368, -0.3621833846193814, 0.28858623882315815, 0.09136065565450563, 0.2277168655347005, 0.5763882886534789, -0.4476670190286101, 0.25673058888758526, 1.8445688677230283, 1.15788161320578, 2.2052667910753776, 1.4401506638275394, 1.8678122203305374, 2.7518733356662763, 0.3670176878607257, 2.302439444625197, 2.0066864676766065, 2.259777349012499, 1.3641754921860074, 1.6026786704779308, 1.8839007017032423, 1.2601150991975087, 1.4676452010173242, 1.590077317614565, 1.471431461133318, 2.426328987315699, 3.310695583933888, 1.2637666736398296, 2.037716301469404, 0.977980734249422, 2.8976514907341686, 1.333232175973209, 1.7007338974912165, 1.9543267058530702, 1.1751036315549328, 1.020950550695791, 1.788349920179666, 1.8636475533282606, 2.4359537279227035, 2.3049277218317625, 1.8627032197949558, 1.1141477406864748, 1.2024733016783915, 2.7987704475781077, 1.5762559101947533, 1.3462921036270614, 0.9248249165424194, 1.8520450517676696, 2.0148104299548755, 1.9017840902621885, 1.15788161320578, 2.0405582280520917, 1.9981470959523755, 1.8705032929564105, 1.564580483030329, 1.5211704996278375, 1.372787789514072, 0.9606560300371276], \"y\": [0.48002659652098906, -0.6741335566053535, -0.34190802388467645, -0.597394507674676, 0.646835382902027, 1.489177523321167, 0.04764419763001415, 0.22314807268959164, -1.1153276754616668, -0.4690135614023762, 1.0436906530538597, 0.13307833523923152, -0.7286761653165712, -0.9615067291701636, 1.8600571132939316, 2.686284485110593, 1.483609363155573, 0.48883831648632753, 1.4050187944665495, 1.1278493819084763, 0.40885570775590596, 0.9241214267468982, 0.45834366775291546, 0.08555852628736588, 0.13725445536342717, -0.6256185877766771, 0.242163552661667, 0.5271495253082672, 0.3132178101399516, -0.3377319037604807, -0.5045406901415187, 0.4236950676037857, 1.793575856104429, 2.150727877392925, -0.4602018414370378, -0.2061073976884372, 0.6615581114631078, 0.5922927741908093, -0.9041800403761484, 0.2688789614354707, 0.44171538769904994, -2.337415157553349, -0.47910069012231427, 0.4723266677192608, 1.1422292620394088, -0.7110527253858945, 1.1204297019845364, -0.38624687258915746, 0.9979597643079803, 0.009216357521275864, 0.8629724182621591, 0.5946147256694247, 0.6162976544374985, -1.754403989323411, -0.20842104605096573, -0.5932836359900754, 0.7730193120985969, -1.8524290868575748, 0.03222607789115367, -1.034018275129441, -2.654072818536566, -0.06329518843800142, -1.7647243806169461, -0.18622460583150585, -0.43900320998162484, 0.5090639567734085, -0.19631173455144396, -0.7920957424327217, -1.6222438030915027, -1.3026092302957732, 0.39657156196023935, -0.41732028121355125, -0.9333257287992789, -0.4163877208890998, -0.06341181972480031, 0.250793392900612, -0.07725601969586932, 0.33131168179089815, -0.22592785469484367, -1.0587185465539093, -1.5622718342099682, -1.572475594216705, -0.777256382584842, -0.6338432447349469, -0.28777351204320223, 0.8455822409050792, 0.5220517968629427, -1.3829887191907824, -0.21950333464771501, -1.329324639069577, -1.1200285237424041, 0.02492302925401263, -0.9884040176703606, -2.0192378732386125, -0.8557303199870665, -0.18119212582577532, -0.384920080987354, -0.15487359721655897, -1.543792034397757, -0.5988517961556696, 0.8704213123248239, -0.6988698623306904, 0.5620104770083558, -0.046987588105806444, 0.29504482445702007, 0.8004092010275423, -1.5615028914765061, 0.42006557964277647, -0.7114386535471593, 1.9210103764598874, 0.6927564544903875, -0.4217004497726173, 0.41924965060512376, -1.162260421406464, -0.4422715873770823, 0.6762448057233206, 0.25562182447147064, 2.5566612507954933, 0.017780949320627015, -1.7067453803762684, 0.9104674096183114, -0.5717643248129917, 0.4136410595956478, -0.4818112186494294, 1.0139218673227919, 1.0077775961534527, -0.3163944723097911, 0.06434602923956201, -0.18736121459082872, 0.5622907258861447, 0.2592844331442801, 2.6263234682323793, -0.1785494946254903, -0.2929226233357316, -0.8113152708396689, 0.8568033294971057, 1.0685811073208085, 0.42243061085250855, 0.017223100452284326, 0.6761281744365217, 0.6138856369235755, 0.6895754942430029, -0.6988698623306904, 0.867520600955229, 1.0491687471841455, 0.38696608166572577, -0.8966868088965267, 0.2690691442779518, 1.0112544185267938, -0.024331668169399148], \"z\": [-0.12770602230015243, -0.23460885398456788, 0.044201484838743754, 0.09129010632068235, 0.01573819567625878, 0.02696829443978188, 0.3354704011431141, -0.08869549794772635, 0.145076863637, -0.25376556730000666, -0.2686811022161347, 0.09375924438111172, -0.23091123720660278, 0.1807960844031793, -0.4729009978730771, 0.030526609265510783, -0.005344094078264139, -0.04421531647845384, -0.3743432745576548, 0.13263046678130236, -0.42129259408735664, 0.15986527722625293, 0.33217909755686625, 0.03448859579998115, 0.11799353576964622, -0.305640982325208, 0.0863640108251823, -0.2068162477703046, -0.27115024027656437, 0.06843577622727826, -0.07500844174913301, -0.27046737670298243, 0.04722841866848637, -0.08266804506156777, -0.17027486147830806, -0.22544158008975734, -0.48453740982831733, 0.019435812454223322, 0.1932546618842368, -0.17588382054738916, 0.03489490899169745, -0.20423422253096546, 0.3057664526377334, 0.30960131784532763, 0.248433561121047, -0.06392982556320581, 0.05721785808911539, 0.13946790456791913, -0.18149277961647098, -0.15302949045398617, -0.6845861626897374, -0.09412171552908233, -0.5540068353861012, -0.02310176781380191, -0.3982555225062272, 0.12419154951817021, 0.14896940252805113, 0.24926526578924935, -0.5961693613725388, 0.538899390184368, -0.04679044405838373, 0.2050738153272028, -0.7657713936539623, -0.06865894542301261, 0.19493289332897884, -0.5035113816560306, 0.4908730745147277, -0.3020371744413826, -0.4823040240972385, -0.17283780843287683, 0.6165263063228642, -0.26495222652803985, -0.3684122720486106, -0.291896252443158, -0.44602700756174746, -0.47257895443311504, -0.7271550018678926, -0.2608265767906141, 0.08586388873932596, -0.31957332999553695, -0.14998347833947373, -0.2415522812906839, -0.1512119570570084, 0.10531138658459717, 0.6652497197140537, 0.450634071444766, -0.3957863844457975, -0.6882959600930618, 0.29157927435328457, 0.08941002293969477, 0.09448760101279047, -0.020481147175775843, -0.19938975530424524, 0.10582104781283797, 0.1308896853525514, 0.12897834306143374, 0.15621315350638407, -0.2716503623624208, 0.19040093039983608, 0.0918791610001242, 1.0054010176069879, 0.5301601492490196, -0.20291416973686893, 0.16363010683005863, 0.3956283745532978, -0.582309102828605, 0.9868932674720258, -0.6517064392599936, -0.39399057081656486, 0.3975518974697746, 0.2846120737568165, 0.023186407910062545, 0.02633840954407496, 0.580249289787373, 1.0038695737342604, 0.6384287080805982, 0.03743125987796869, -0.12788145946307217, -0.7033053039033299, -0.2675368932503544, 0.23479948360032776, 0.8281272013877701, -0.8574218248739522, -0.005428363830018212, 0.29845061253300564, -0.41998472191862, 0.12993775701688126, 0.3377159674995531, 0.2706580063187425, -0.715634118574537, -0.7278161456737302, -0.4934738076943308, 0.3541487121404411, -0.183488391659343, -0.16472375738765382, -0.5429064994324291, 0.9458538186439913, 0.18087547785438002, 0.4168261929697046, -0.012672114808351953, 0.42833284211509315, 0.1300750054465103, 0.5301601492490196, 0.3381440004590145, 0.6324134358197999, 0.25627385239860023, -0.026371351632304862, 0.18017838013283138, 0.9333952411629328, 0.528248806957902]}],                        {\"legend\": {\"tracegroupgap\": 0}, \"margin\": {\"t\": 60}, \"scene\": {\"domain\": {\"x\": [0.0, 1.0], \"y\": [0.0, 1.0]}, \"xaxis\": {\"title\": {\"text\": \"PC1\"}}, \"yaxis\": {\"title\": {\"text\": \"PC2\"}}, \"zaxis\": {\"title\": {\"text\": \"PC3\"}}}, \"template\": {\"data\": {\"bar\": [{\"error_x\": {\"color\": \"#2a3f5f\"}, \"error_y\": {\"color\": \"#2a3f5f\"}, \"marker\": {\"line\": {\"color\": \"#E5ECF6\", \"width\": 0.5}}, \"type\": \"bar\"}], \"barpolar\": [{\"marker\": {\"line\": {\"color\": \"#E5ECF6\", \"width\": 0.5}}, \"type\": \"barpolar\"}], \"carpet\": [{\"aaxis\": {\"endlinecolor\": \"#2a3f5f\", \"gridcolor\": \"white\", \"linecolor\": \"white\", \"minorgridcolor\": \"white\", \"startlinecolor\": \"#2a3f5f\"}, \"baxis\": {\"endlinecolor\": \"#2a3f5f\", \"gridcolor\": \"white\", \"linecolor\": \"white\", \"minorgridcolor\": \"white\", \"startlinecolor\": \"#2a3f5f\"}, \"type\": \"carpet\"}], \"choropleth\": [{\"colorbar\": {\"outlinewidth\": 0, \"ticks\": \"\"}, \"type\": \"choropleth\"}], \"contour\": [{\"colorbar\": {\"outlinewidth\": 0, \"ticks\": \"\"}, \"colorscale\": [[0.0, \"#0d0887\"], [0.1111111111111111, \"#46039f\"], [0.2222222222222222, \"#7201a8\"], [0.3333333333333333, \"#9c179e\"], [0.4444444444444444, \"#bd3786\"], [0.5555555555555556, \"#d8576b\"], [0.6666666666666666, \"#ed7953\"], [0.7777777777777778, \"#fb9f3a\"], [0.8888888888888888, \"#fdca26\"], [1.0, \"#f0f921\"]], \"type\": \"contour\"}], \"contourcarpet\": [{\"colorbar\": {\"outlinewidth\": 0, \"ticks\": \"\"}, \"type\": \"contourcarpet\"}], \"heatmap\": [{\"colorbar\": {\"outlinewidth\": 0, \"ticks\": \"\"}, \"colorscale\": [[0.0, \"#0d0887\"], [0.1111111111111111, \"#46039f\"], [0.2222222222222222, \"#7201a8\"], [0.3333333333333333, \"#9c179e\"], [0.4444444444444444, \"#bd3786\"], [0.5555555555555556, \"#d8576b\"], [0.6666666666666666, \"#ed7953\"], [0.7777777777777778, \"#fb9f3a\"], [0.8888888888888888, \"#fdca26\"], [1.0, \"#f0f921\"]], \"type\": \"heatmap\"}], \"heatmapgl\": [{\"colorbar\": {\"outlinewidth\": 0, \"ticks\": \"\"}, \"colorscale\": [[0.0, \"#0d0887\"], [0.1111111111111111, \"#46039f\"], [0.2222222222222222, \"#7201a8\"], [0.3333333333333333, \"#9c179e\"], [0.4444444444444444, \"#bd3786\"], [0.5555555555555556, \"#d8576b\"], [0.6666666666666666, \"#ed7953\"], [0.7777777777777778, \"#fb9f3a\"], [0.8888888888888888, \"#fdca26\"], [1.0, \"#f0f921\"]], \"type\": \"heatmapgl\"}], \"histogram\": [{\"marker\": {\"colorbar\": {\"outlinewidth\": 0, \"ticks\": \"\"}}, \"type\": \"histogram\"}], \"histogram2d\": [{\"colorbar\": {\"outlinewidth\": 0, \"ticks\": \"\"}, \"colorscale\": [[0.0, \"#0d0887\"], [0.1111111111111111, \"#46039f\"], [0.2222222222222222, \"#7201a8\"], [0.3333333333333333, \"#9c179e\"], [0.4444444444444444, \"#bd3786\"], [0.5555555555555556, \"#d8576b\"], [0.6666666666666666, \"#ed7953\"], [0.7777777777777778, \"#fb9f3a\"], [0.8888888888888888, \"#fdca26\"], [1.0, \"#f0f921\"]], \"type\": \"histogram2d\"}], \"histogram2dcontour\": [{\"colorbar\": {\"outlinewidth\": 0, \"ticks\": \"\"}, \"colorscale\": [[0.0, \"#0d0887\"], [0.1111111111111111, \"#46039f\"], [0.2222222222222222, \"#7201a8\"], [0.3333333333333333, \"#9c179e\"], [0.4444444444444444, \"#bd3786\"], [0.5555555555555556, \"#d8576b\"], [0.6666666666666666, \"#ed7953\"], [0.7777777777777778, \"#fb9f3a\"], [0.8888888888888888, \"#fdca26\"], [1.0, \"#f0f921\"]], \"type\": \"histogram2dcontour\"}], \"mesh3d\": [{\"colorbar\": {\"outlinewidth\": 0, \"ticks\": \"\"}, \"type\": \"mesh3d\"}], \"parcoords\": [{\"line\": {\"colorbar\": {\"outlinewidth\": 0, \"ticks\": \"\"}}, \"type\": \"parcoords\"}], \"pie\": [{\"automargin\": true, \"type\": \"pie\"}], \"scatter\": [{\"marker\": {\"colorbar\": {\"outlinewidth\": 0, \"ticks\": \"\"}}, \"type\": \"scatter\"}], \"scatter3d\": [{\"line\": {\"colorbar\": {\"outlinewidth\": 0, \"ticks\": \"\"}}, \"marker\": {\"colorbar\": {\"outlinewidth\": 0, \"ticks\": \"\"}}, \"type\": \"scatter3d\"}], \"scattercarpet\": [{\"marker\": {\"colorbar\": {\"outlinewidth\": 0, \"ticks\": \"\"}}, \"type\": \"scattercarpet\"}], \"scattergeo\": [{\"marker\": {\"colorbar\": {\"outlinewidth\": 0, \"ticks\": \"\"}}, \"type\": \"scattergeo\"}], \"scattergl\": [{\"marker\": {\"colorbar\": {\"outlinewidth\": 0, \"ticks\": \"\"}}, \"type\": \"scattergl\"}], \"scattermapbox\": [{\"marker\": {\"colorbar\": {\"outlinewidth\": 0, \"ticks\": \"\"}}, \"type\": \"scattermapbox\"}], \"scatterpolar\": [{\"marker\": {\"colorbar\": {\"outlinewidth\": 0, \"ticks\": \"\"}}, \"type\": \"scatterpolar\"}], \"scatterpolargl\": [{\"marker\": {\"colorbar\": {\"outlinewidth\": 0, \"ticks\": \"\"}}, \"type\": \"scatterpolargl\"}], \"scatterternary\": [{\"marker\": {\"colorbar\": {\"outlinewidth\": 0, \"ticks\": \"\"}}, \"type\": \"scatterternary\"}], \"surface\": [{\"colorbar\": {\"outlinewidth\": 0, \"ticks\": \"\"}, \"colorscale\": [[0.0, \"#0d0887\"], [0.1111111111111111, \"#46039f\"], [0.2222222222222222, \"#7201a8\"], [0.3333333333333333, \"#9c179e\"], [0.4444444444444444, \"#bd3786\"], [0.5555555555555556, \"#d8576b\"], [0.6666666666666666, \"#ed7953\"], [0.7777777777777778, \"#fb9f3a\"], [0.8888888888888888, \"#fdca26\"], [1.0, \"#f0f921\"]], \"type\": \"surface\"}], \"table\": [{\"cells\": {\"fill\": {\"color\": \"#EBF0F8\"}, \"line\": {\"color\": \"white\"}}, \"header\": {\"fill\": {\"color\": \"#C8D4E3\"}, \"line\": {\"color\": \"white\"}}, \"type\": \"table\"}]}, \"layout\": {\"annotationdefaults\": {\"arrowcolor\": \"#2a3f5f\", \"arrowhead\": 0, \"arrowwidth\": 1}, \"autotypenumbers\": \"strict\", \"coloraxis\": {\"colorbar\": {\"outlinewidth\": 0, \"ticks\": \"\"}}, \"colorscale\": {\"diverging\": [[0, \"#8e0152\"], [0.1, \"#c51b7d\"], [0.2, \"#de77ae\"], [0.3, \"#f1b6da\"], [0.4, \"#fde0ef\"], [0.5, \"#f7f7f7\"], [0.6, \"#e6f5d0\"], [0.7, \"#b8e186\"], [0.8, \"#7fbc41\"], [0.9, \"#4d9221\"], [1, \"#276419\"]], \"sequential\": [[0.0, \"#0d0887\"], [0.1111111111111111, \"#46039f\"], [0.2222222222222222, \"#7201a8\"], [0.3333333333333333, \"#9c179e\"], [0.4444444444444444, \"#bd3786\"], [0.5555555555555556, \"#d8576b\"], [0.6666666666666666, \"#ed7953\"], [0.7777777777777778, \"#fb9f3a\"], [0.8888888888888888, \"#fdca26\"], [1.0, \"#f0f921\"]], \"sequentialminus\": [[0.0, \"#0d0887\"], [0.1111111111111111, \"#46039f\"], [0.2222222222222222, \"#7201a8\"], [0.3333333333333333, \"#9c179e\"], [0.4444444444444444, \"#bd3786\"], [0.5555555555555556, \"#d8576b\"], [0.6666666666666666, \"#ed7953\"], [0.7777777777777778, \"#fb9f3a\"], [0.8888888888888888, \"#fdca26\"], [1.0, \"#f0f921\"]]}, \"colorway\": [\"#636efa\", \"#EF553B\", \"#00cc96\", \"#ab63fa\", \"#FFA15A\", \"#19d3f3\", \"#FF6692\", \"#B6E880\", \"#FF97FF\", \"#FECB52\"], \"font\": {\"color\": \"#2a3f5f\"}, \"geo\": {\"bgcolor\": \"white\", \"lakecolor\": \"white\", \"landcolor\": \"#E5ECF6\", \"showlakes\": true, \"showland\": true, \"subunitcolor\": \"white\"}, \"hoverlabel\": {\"align\": \"left\"}, \"hovermode\": \"closest\", \"mapbox\": {\"style\": \"light\"}, \"paper_bgcolor\": \"white\", \"plot_bgcolor\": \"#E5ECF6\", \"polar\": {\"angularaxis\": {\"gridcolor\": \"white\", \"linecolor\": \"white\", \"ticks\": \"\"}, \"bgcolor\": \"#E5ECF6\", \"radialaxis\": {\"gridcolor\": \"white\", \"linecolor\": \"white\", \"ticks\": \"\"}}, \"scene\": {\"xaxis\": {\"backgroundcolor\": \"#E5ECF6\", \"gridcolor\": \"white\", \"gridwidth\": 2, \"linecolor\": \"white\", \"showbackground\": true, \"ticks\": \"\", \"zerolinecolor\": \"white\"}, \"yaxis\": {\"backgroundcolor\": \"#E5ECF6\", \"gridcolor\": \"white\", \"gridwidth\": 2, \"linecolor\": \"white\", \"showbackground\": true, \"ticks\": \"\", \"zerolinecolor\": \"white\"}, \"zaxis\": {\"backgroundcolor\": \"#E5ECF6\", \"gridcolor\": \"white\", \"gridwidth\": 2, \"linecolor\": \"white\", \"showbackground\": true, \"ticks\": \"\", \"zerolinecolor\": \"white\"}}, \"shapedefaults\": {\"line\": {\"color\": \"#2a3f5f\"}}, \"ternary\": {\"aaxis\": {\"gridcolor\": \"white\", \"linecolor\": \"white\", \"ticks\": \"\"}, \"baxis\": {\"gridcolor\": \"white\", \"linecolor\": \"white\", \"ticks\": \"\"}, \"bgcolor\": \"#E5ECF6\", \"caxis\": {\"gridcolor\": \"white\", \"linecolor\": \"white\", \"ticks\": \"\"}}, \"title\": {\"x\": 0.05}, \"xaxis\": {\"automargin\": true, \"gridcolor\": \"white\", \"linecolor\": \"white\", \"ticks\": \"\", \"title\": {\"standoff\": 15}, \"zerolinecolor\": \"white\", \"zerolinewidth\": 2}, \"yaxis\": {\"automargin\": true, \"gridcolor\": \"white\", \"linecolor\": \"white\", \"ticks\": \"\", \"title\": {\"standoff\": 15}, \"zerolinecolor\": \"white\", \"zerolinewidth\": 2}}}},                        {\"responsive\": true}                    ).then(function(){\n",
       "                            \n",
       "var gd = document.getElementById('734f1069-28e4-4193-91c5-21da85644c49');\n",
       "var x = new MutationObserver(function (mutations, observer) {{\n",
       "        var display = window.getComputedStyle(gd).display;\n",
       "        if (!display || display === 'none') {{\n",
       "            console.log([gd, 'removed!']);\n",
       "            Plotly.purge(gd);\n",
       "            observer.disconnect();\n",
       "        }}\n",
       "}});\n",
       "\n",
       "// Listen for the removal of the full notebook cells\n",
       "var notebookContainer = gd.closest('#notebook-container');\n",
       "if (notebookContainer) {{\n",
       "    x.observe(notebookContainer, {childList: true});\n",
       "}}\n",
       "\n",
       "// Listen for the clearing of the current output cell\n",
       "var outputEl = gd.closest('.output');\n",
       "if (outputEl) {{\n",
       "    x.observe(outputEl, {childList: true});\n",
       "}}\n",
       "\n",
       "                        })                };                });            </script>        </div>"
      ]
     },
     "metadata": {},
     "output_type": "display_data"
    }
   ],
   "source": [
    "fig = px.scatter_3d(df_scores, x='PC1', y='PC2', z='PC3',)\n",
    "fig.show()"
   ]
  },
  {
   "cell_type": "code",
   "execution_count": 47,
   "metadata": {},
   "outputs": [
    {
     "data": {
      "application/vnd.plotly.v1+json": {
       "config": {
        "plotlyServerURL": "https://plot.ly"
       },
       "data": [
        {
         "hovertemplate": "frequency=%{r}<br>direction=%{theta}<extra></extra>",
         "legendgroup": "",
         "marker": {
          "color": "#636efa",
          "symbol": "circle"
         },
         "mode": "markers",
         "name": "",
         "r": [
          0.5,
          0.6,
          0.5,
          0.4,
          0.4,
          0.3,
          0.4,
          0.4,
          0.6,
          0.4,
          0.5,
          0.6,
          0.6,
          0.5,
          0.4,
          0.1,
          1.6,
          1.8,
          1.5,
          1.6,
          1.6,
          1.2,
          1.5,
          1.7,
          2.2,
          2,
          2.3,
          2.4,
          2.3,
          2.6,
          2.3,
          0.8,
          0.9,
          1.3,
          1.6,
          0.9,
          1,
          0.6,
          0.6,
          0.9,
          1.4,
          1.7,
          1.9,
          2.2,
          1.8,
          1.7,
          1.8,
          0.8,
          0.9,
          0.8,
          1.2,
          1,
          0.8,
          0.4,
          0.5,
          0.5,
          0.8,
          0.9,
          1.3,
          1.1,
          1.2,
          1.2,
          1.3,
          1,
          0.4,
          0.5,
          1.2,
          0.5,
          0.4,
          0.2,
          0.4,
          0.4,
          0.7,
          0.6,
          0.7,
          0.8,
          0.9,
          1,
          1,
          0.7,
          0.3,
          0.3,
          0.6,
          0.2,
          0.1,
          0.1,
          0.05,
          0.1,
          0.1,
          0.2,
          0.3,
          0.4,
          0.9,
          0.9,
          0.9,
          0.3,
          0.2,
          0.1,
          0.1,
          0.1,
          0.1,
          0.1,
          0.05,
          0.05,
          0.1,
          0.05,
          0.2,
          0.2,
          0.4,
          0.7,
          0.7,
          0.4,
          0.1,
          0.1,
          0.1,
          0.1,
          0.1,
          0.05,
          0.05,
          0.05,
          0.05,
          0.1,
          0.1,
          0.1,
          0.9,
          2.2,
          1.5,
          0.2
         ],
         "showlegend": false,
         "subplot": "polar",
         "theta": [
          "N",
          "NNE",
          "NE",
          "ENE",
          "E",
          "ESE",
          "SE",
          "SSE",
          "S",
          "SSW",
          "SW",
          "WSW",
          "W",
          "WNW",
          "NW",
          "NNW",
          "N",
          "NNE",
          "NE",
          "ENE",
          "E",
          "ESE",
          "SE",
          "SSE",
          "S",
          "SSW",
          "SW",
          "WSW",
          "W",
          "WNW",
          "NW",
          "NNW",
          "N",
          "NNE",
          "NE",
          "ENE",
          "E",
          "ESE",
          "SE",
          "SSE",
          "S",
          "SSW",
          "SW",
          "WSW",
          "W",
          "WNW",
          "NW",
          "NNW",
          "N",
          "NNE",
          "NE",
          "ENE",
          "E",
          "ESE",
          "SE",
          "SSE",
          "S",
          "SSW",
          "SW",
          "WSW",
          "W",
          "WNW",
          "NW",
          "NNW",
          "N",
          "NNE",
          "NE",
          "ENE",
          "E",
          "ESE",
          "SE",
          "SSE",
          "S",
          "SSW",
          "SW",
          "WSW",
          "W",
          "WNW",
          "NW",
          "NNW",
          "N",
          "NNE",
          "NE",
          "ENE",
          "E",
          "ESE",
          "SE",
          "SSE",
          "S",
          "SSW",
          "SW",
          "WSW",
          "W",
          "WNW",
          "NW",
          "NNW",
          "N",
          "NNE",
          "NE",
          "ENE",
          "E",
          "ESE",
          "SE",
          "SSE",
          "S",
          "SSW",
          "SW",
          "WSW",
          "W",
          "WNW",
          "NW",
          "NNW",
          "N",
          "NNE",
          "NE",
          "ENE",
          "E",
          "ESE",
          "SE",
          "SSE",
          "S",
          "SSW",
          "SW",
          "WSW",
          "W",
          "WNW",
          "NW",
          "NNW"
         ],
         "type": "scatterpolar"
        }
       ],
       "layout": {
        "legend": {
         "tracegroupgap": 0
        },
        "margin": {
         "t": 60
        },
        "polar": {
         "angularaxis": {
          "direction": "clockwise",
          "rotation": 90
         },
         "domain": {
          "x": [
           0,
           1
          ],
          "y": [
           0,
           1
          ]
         }
        },
        "template": {
         "data": {
          "bar": [
           {
            "error_x": {
             "color": "#2a3f5f"
            },
            "error_y": {
             "color": "#2a3f5f"
            },
            "marker": {
             "line": {
              "color": "#E5ECF6",
              "width": 0.5
             }
            },
            "type": "bar"
           }
          ],
          "barpolar": [
           {
            "marker": {
             "line": {
              "color": "#E5ECF6",
              "width": 0.5
             }
            },
            "type": "barpolar"
           }
          ],
          "carpet": [
           {
            "aaxis": {
             "endlinecolor": "#2a3f5f",
             "gridcolor": "white",
             "linecolor": "white",
             "minorgridcolor": "white",
             "startlinecolor": "#2a3f5f"
            },
            "baxis": {
             "endlinecolor": "#2a3f5f",
             "gridcolor": "white",
             "linecolor": "white",
             "minorgridcolor": "white",
             "startlinecolor": "#2a3f5f"
            },
            "type": "carpet"
           }
          ],
          "choropleth": [
           {
            "colorbar": {
             "outlinewidth": 0,
             "ticks": ""
            },
            "type": "choropleth"
           }
          ],
          "contour": [
           {
            "colorbar": {
             "outlinewidth": 0,
             "ticks": ""
            },
            "colorscale": [
             [
              0,
              "#0d0887"
             ],
             [
              0.1111111111111111,
              "#46039f"
             ],
             [
              0.2222222222222222,
              "#7201a8"
             ],
             [
              0.3333333333333333,
              "#9c179e"
             ],
             [
              0.4444444444444444,
              "#bd3786"
             ],
             [
              0.5555555555555556,
              "#d8576b"
             ],
             [
              0.6666666666666666,
              "#ed7953"
             ],
             [
              0.7777777777777778,
              "#fb9f3a"
             ],
             [
              0.8888888888888888,
              "#fdca26"
             ],
             [
              1,
              "#f0f921"
             ]
            ],
            "type": "contour"
           }
          ],
          "contourcarpet": [
           {
            "colorbar": {
             "outlinewidth": 0,
             "ticks": ""
            },
            "type": "contourcarpet"
           }
          ],
          "heatmap": [
           {
            "colorbar": {
             "outlinewidth": 0,
             "ticks": ""
            },
            "colorscale": [
             [
              0,
              "#0d0887"
             ],
             [
              0.1111111111111111,
              "#46039f"
             ],
             [
              0.2222222222222222,
              "#7201a8"
             ],
             [
              0.3333333333333333,
              "#9c179e"
             ],
             [
              0.4444444444444444,
              "#bd3786"
             ],
             [
              0.5555555555555556,
              "#d8576b"
             ],
             [
              0.6666666666666666,
              "#ed7953"
             ],
             [
              0.7777777777777778,
              "#fb9f3a"
             ],
             [
              0.8888888888888888,
              "#fdca26"
             ],
             [
              1,
              "#f0f921"
             ]
            ],
            "type": "heatmap"
           }
          ],
          "heatmapgl": [
           {
            "colorbar": {
             "outlinewidth": 0,
             "ticks": ""
            },
            "colorscale": [
             [
              0,
              "#0d0887"
             ],
             [
              0.1111111111111111,
              "#46039f"
             ],
             [
              0.2222222222222222,
              "#7201a8"
             ],
             [
              0.3333333333333333,
              "#9c179e"
             ],
             [
              0.4444444444444444,
              "#bd3786"
             ],
             [
              0.5555555555555556,
              "#d8576b"
             ],
             [
              0.6666666666666666,
              "#ed7953"
             ],
             [
              0.7777777777777778,
              "#fb9f3a"
             ],
             [
              0.8888888888888888,
              "#fdca26"
             ],
             [
              1,
              "#f0f921"
             ]
            ],
            "type": "heatmapgl"
           }
          ],
          "histogram": [
           {
            "marker": {
             "colorbar": {
              "outlinewidth": 0,
              "ticks": ""
             }
            },
            "type": "histogram"
           }
          ],
          "histogram2d": [
           {
            "colorbar": {
             "outlinewidth": 0,
             "ticks": ""
            },
            "colorscale": [
             [
              0,
              "#0d0887"
             ],
             [
              0.1111111111111111,
              "#46039f"
             ],
             [
              0.2222222222222222,
              "#7201a8"
             ],
             [
              0.3333333333333333,
              "#9c179e"
             ],
             [
              0.4444444444444444,
              "#bd3786"
             ],
             [
              0.5555555555555556,
              "#d8576b"
             ],
             [
              0.6666666666666666,
              "#ed7953"
             ],
             [
              0.7777777777777778,
              "#fb9f3a"
             ],
             [
              0.8888888888888888,
              "#fdca26"
             ],
             [
              1,
              "#f0f921"
             ]
            ],
            "type": "histogram2d"
           }
          ],
          "histogram2dcontour": [
           {
            "colorbar": {
             "outlinewidth": 0,
             "ticks": ""
            },
            "colorscale": [
             [
              0,
              "#0d0887"
             ],
             [
              0.1111111111111111,
              "#46039f"
             ],
             [
              0.2222222222222222,
              "#7201a8"
             ],
             [
              0.3333333333333333,
              "#9c179e"
             ],
             [
              0.4444444444444444,
              "#bd3786"
             ],
             [
              0.5555555555555556,
              "#d8576b"
             ],
             [
              0.6666666666666666,
              "#ed7953"
             ],
             [
              0.7777777777777778,
              "#fb9f3a"
             ],
             [
              0.8888888888888888,
              "#fdca26"
             ],
             [
              1,
              "#f0f921"
             ]
            ],
            "type": "histogram2dcontour"
           }
          ],
          "mesh3d": [
           {
            "colorbar": {
             "outlinewidth": 0,
             "ticks": ""
            },
            "type": "mesh3d"
           }
          ],
          "parcoords": [
           {
            "line": {
             "colorbar": {
              "outlinewidth": 0,
              "ticks": ""
             }
            },
            "type": "parcoords"
           }
          ],
          "pie": [
           {
            "automargin": true,
            "type": "pie"
           }
          ],
          "scatter": [
           {
            "marker": {
             "colorbar": {
              "outlinewidth": 0,
              "ticks": ""
             }
            },
            "type": "scatter"
           }
          ],
          "scatter3d": [
           {
            "line": {
             "colorbar": {
              "outlinewidth": 0,
              "ticks": ""
             }
            },
            "marker": {
             "colorbar": {
              "outlinewidth": 0,
              "ticks": ""
             }
            },
            "type": "scatter3d"
           }
          ],
          "scattercarpet": [
           {
            "marker": {
             "colorbar": {
              "outlinewidth": 0,
              "ticks": ""
             }
            },
            "type": "scattercarpet"
           }
          ],
          "scattergeo": [
           {
            "marker": {
             "colorbar": {
              "outlinewidth": 0,
              "ticks": ""
             }
            },
            "type": "scattergeo"
           }
          ],
          "scattergl": [
           {
            "marker": {
             "colorbar": {
              "outlinewidth": 0,
              "ticks": ""
             }
            },
            "type": "scattergl"
           }
          ],
          "scattermapbox": [
           {
            "marker": {
             "colorbar": {
              "outlinewidth": 0,
              "ticks": ""
             }
            },
            "type": "scattermapbox"
           }
          ],
          "scatterpolar": [
           {
            "marker": {
             "colorbar": {
              "outlinewidth": 0,
              "ticks": ""
             }
            },
            "type": "scatterpolar"
           }
          ],
          "scatterpolargl": [
           {
            "marker": {
             "colorbar": {
              "outlinewidth": 0,
              "ticks": ""
             }
            },
            "type": "scatterpolargl"
           }
          ],
          "scatterternary": [
           {
            "marker": {
             "colorbar": {
              "outlinewidth": 0,
              "ticks": ""
             }
            },
            "type": "scatterternary"
           }
          ],
          "surface": [
           {
            "colorbar": {
             "outlinewidth": 0,
             "ticks": ""
            },
            "colorscale": [
             [
              0,
              "#0d0887"
             ],
             [
              0.1111111111111111,
              "#46039f"
             ],
             [
              0.2222222222222222,
              "#7201a8"
             ],
             [
              0.3333333333333333,
              "#9c179e"
             ],
             [
              0.4444444444444444,
              "#bd3786"
             ],
             [
              0.5555555555555556,
              "#d8576b"
             ],
             [
              0.6666666666666666,
              "#ed7953"
             ],
             [
              0.7777777777777778,
              "#fb9f3a"
             ],
             [
              0.8888888888888888,
              "#fdca26"
             ],
             [
              1,
              "#f0f921"
             ]
            ],
            "type": "surface"
           }
          ],
          "table": [
           {
            "cells": {
             "fill": {
              "color": "#EBF0F8"
             },
             "line": {
              "color": "white"
             }
            },
            "header": {
             "fill": {
              "color": "#C8D4E3"
             },
             "line": {
              "color": "white"
             }
            },
            "type": "table"
           }
          ]
         },
         "layout": {
          "annotationdefaults": {
           "arrowcolor": "#2a3f5f",
           "arrowhead": 0,
           "arrowwidth": 1
          },
          "autotypenumbers": "strict",
          "coloraxis": {
           "colorbar": {
            "outlinewidth": 0,
            "ticks": ""
           }
          },
          "colorscale": {
           "diverging": [
            [
             0,
             "#8e0152"
            ],
            [
             0.1,
             "#c51b7d"
            ],
            [
             0.2,
             "#de77ae"
            ],
            [
             0.3,
             "#f1b6da"
            ],
            [
             0.4,
             "#fde0ef"
            ],
            [
             0.5,
             "#f7f7f7"
            ],
            [
             0.6,
             "#e6f5d0"
            ],
            [
             0.7,
             "#b8e186"
            ],
            [
             0.8,
             "#7fbc41"
            ],
            [
             0.9,
             "#4d9221"
            ],
            [
             1,
             "#276419"
            ]
           ],
           "sequential": [
            [
             0,
             "#0d0887"
            ],
            [
             0.1111111111111111,
             "#46039f"
            ],
            [
             0.2222222222222222,
             "#7201a8"
            ],
            [
             0.3333333333333333,
             "#9c179e"
            ],
            [
             0.4444444444444444,
             "#bd3786"
            ],
            [
             0.5555555555555556,
             "#d8576b"
            ],
            [
             0.6666666666666666,
             "#ed7953"
            ],
            [
             0.7777777777777778,
             "#fb9f3a"
            ],
            [
             0.8888888888888888,
             "#fdca26"
            ],
            [
             1,
             "#f0f921"
            ]
           ],
           "sequentialminus": [
            [
             0,
             "#0d0887"
            ],
            [
             0.1111111111111111,
             "#46039f"
            ],
            [
             0.2222222222222222,
             "#7201a8"
            ],
            [
             0.3333333333333333,
             "#9c179e"
            ],
            [
             0.4444444444444444,
             "#bd3786"
            ],
            [
             0.5555555555555556,
             "#d8576b"
            ],
            [
             0.6666666666666666,
             "#ed7953"
            ],
            [
             0.7777777777777778,
             "#fb9f3a"
            ],
            [
             0.8888888888888888,
             "#fdca26"
            ],
            [
             1,
             "#f0f921"
            ]
           ]
          },
          "colorway": [
           "#636efa",
           "#EF553B",
           "#00cc96",
           "#ab63fa",
           "#FFA15A",
           "#19d3f3",
           "#FF6692",
           "#B6E880",
           "#FF97FF",
           "#FECB52"
          ],
          "font": {
           "color": "#2a3f5f"
          },
          "geo": {
           "bgcolor": "white",
           "lakecolor": "white",
           "landcolor": "#E5ECF6",
           "showlakes": true,
           "showland": true,
           "subunitcolor": "white"
          },
          "hoverlabel": {
           "align": "left"
          },
          "hovermode": "closest",
          "mapbox": {
           "style": "light"
          },
          "paper_bgcolor": "white",
          "plot_bgcolor": "#E5ECF6",
          "polar": {
           "angularaxis": {
            "gridcolor": "white",
            "linecolor": "white",
            "ticks": ""
           },
           "bgcolor": "#E5ECF6",
           "radialaxis": {
            "gridcolor": "white",
            "linecolor": "white",
            "ticks": ""
           }
          },
          "scene": {
           "xaxis": {
            "backgroundcolor": "#E5ECF6",
            "gridcolor": "white",
            "gridwidth": 2,
            "linecolor": "white",
            "showbackground": true,
            "ticks": "",
            "zerolinecolor": "white"
           },
           "yaxis": {
            "backgroundcolor": "#E5ECF6",
            "gridcolor": "white",
            "gridwidth": 2,
            "linecolor": "white",
            "showbackground": true,
            "ticks": "",
            "zerolinecolor": "white"
           },
           "zaxis": {
            "backgroundcolor": "#E5ECF6",
            "gridcolor": "white",
            "gridwidth": 2,
            "linecolor": "white",
            "showbackground": true,
            "ticks": "",
            "zerolinecolor": "white"
           }
          },
          "shapedefaults": {
           "line": {
            "color": "#2a3f5f"
           }
          },
          "ternary": {
           "aaxis": {
            "gridcolor": "white",
            "linecolor": "white",
            "ticks": ""
           },
           "baxis": {
            "gridcolor": "white",
            "linecolor": "white",
            "ticks": ""
           },
           "bgcolor": "#E5ECF6",
           "caxis": {
            "gridcolor": "white",
            "linecolor": "white",
            "ticks": ""
           }
          },
          "title": {
           "x": 0.05
          },
          "xaxis": {
           "automargin": true,
           "gridcolor": "white",
           "linecolor": "white",
           "ticks": "",
           "title": {
            "standoff": 15
           },
           "zerolinecolor": "white",
           "zerolinewidth": 2
          },
          "yaxis": {
           "automargin": true,
           "gridcolor": "white",
           "linecolor": "white",
           "ticks": "",
           "title": {
            "standoff": 15
           },
           "zerolinecolor": "white",
           "zerolinewidth": 2
          }
         }
        }
       }
      },
      "text/html": [
       "<div>                            <div id=\"0da83632-04f3-492c-9bf9-5fc49716286c\" class=\"plotly-graph-div\" style=\"height:525px; width:100%;\"></div>            <script type=\"text/javascript\">                require([\"plotly\"], function(Plotly) {                    window.PLOTLYENV=window.PLOTLYENV || {};                                    if (document.getElementById(\"0da83632-04f3-492c-9bf9-5fc49716286c\")) {                    Plotly.newPlot(                        \"0da83632-04f3-492c-9bf9-5fc49716286c\",                        [{\"hovertemplate\": \"frequency=%{r}<br>direction=%{theta}<extra></extra>\", \"legendgroup\": \"\", \"marker\": {\"color\": \"#636efa\", \"symbol\": \"circle\"}, \"mode\": \"markers\", \"name\": \"\", \"r\": [0.5, 0.6, 0.5, 0.4, 0.4, 0.3, 0.4, 0.4, 0.6, 0.4, 0.5, 0.6, 0.6, 0.5, 0.4, 0.1, 1.6, 1.8, 1.5, 1.6, 1.6, 1.2, 1.5, 1.7, 2.2, 2.0, 2.3, 2.4, 2.3, 2.6, 2.3, 0.8, 0.9, 1.3, 1.6, 0.9, 1.0, 0.6, 0.6, 0.9, 1.4, 1.7, 1.9, 2.2, 1.8, 1.7, 1.8, 0.8, 0.9, 0.8, 1.2, 1.0, 0.8, 0.4, 0.5, 0.5, 0.8, 0.9, 1.3, 1.1, 1.2, 1.2, 1.3, 1.0, 0.4, 0.5, 1.2, 0.5, 0.4, 0.2, 0.4, 0.4, 0.7, 0.6, 0.7, 0.8, 0.9, 1.0, 1.0, 0.7, 0.3, 0.3, 0.6, 0.2, 0.1, 0.1, 0.05, 0.1, 0.1, 0.2, 0.3, 0.4, 0.9, 0.9, 0.9, 0.3, 0.2, 0.1, 0.1, 0.1, 0.1, 0.1, 0.05, 0.05, 0.1, 0.05, 0.2, 0.2, 0.4, 0.7, 0.7, 0.4, 0.1, 0.1, 0.1, 0.1, 0.1, 0.05, 0.05, 0.05, 0.05, 0.1, 0.1, 0.1, 0.9, 2.2, 1.5, 0.2], \"showlegend\": false, \"subplot\": \"polar\", \"theta\": [\"N\", \"NNE\", \"NE\", \"ENE\", \"E\", \"ESE\", \"SE\", \"SSE\", \"S\", \"SSW\", \"SW\", \"WSW\", \"W\", \"WNW\", \"NW\", \"NNW\", \"N\", \"NNE\", \"NE\", \"ENE\", \"E\", \"ESE\", \"SE\", \"SSE\", \"S\", \"SSW\", \"SW\", \"WSW\", \"W\", \"WNW\", \"NW\", \"NNW\", \"N\", \"NNE\", \"NE\", \"ENE\", \"E\", \"ESE\", \"SE\", \"SSE\", \"S\", \"SSW\", \"SW\", \"WSW\", \"W\", \"WNW\", \"NW\", \"NNW\", \"N\", \"NNE\", \"NE\", \"ENE\", \"E\", \"ESE\", \"SE\", \"SSE\", \"S\", \"SSW\", \"SW\", \"WSW\", \"W\", \"WNW\", \"NW\", \"NNW\", \"N\", \"NNE\", \"NE\", \"ENE\", \"E\", \"ESE\", \"SE\", \"SSE\", \"S\", \"SSW\", \"SW\", \"WSW\", \"W\", \"WNW\", \"NW\", \"NNW\", \"N\", \"NNE\", \"NE\", \"ENE\", \"E\", \"ESE\", \"SE\", \"SSE\", \"S\", \"SSW\", \"SW\", \"WSW\", \"W\", \"WNW\", \"NW\", \"NNW\", \"N\", \"NNE\", \"NE\", \"ENE\", \"E\", \"ESE\", \"SE\", \"SSE\", \"S\", \"SSW\", \"SW\", \"WSW\", \"W\", \"WNW\", \"NW\", \"NNW\", \"N\", \"NNE\", \"NE\", \"ENE\", \"E\", \"ESE\", \"SE\", \"SSE\", \"S\", \"SSW\", \"SW\", \"WSW\", \"W\", \"WNW\", \"NW\", \"NNW\"], \"type\": \"scatterpolar\"}],                        {\"legend\": {\"tracegroupgap\": 0}, \"margin\": {\"t\": 60}, \"polar\": {\"angularaxis\": {\"direction\": \"clockwise\", \"rotation\": 90}, \"domain\": {\"x\": [0.0, 1.0], \"y\": [0.0, 1.0]}}, \"template\": {\"data\": {\"bar\": [{\"error_x\": {\"color\": \"#2a3f5f\"}, \"error_y\": {\"color\": \"#2a3f5f\"}, \"marker\": {\"line\": {\"color\": \"#E5ECF6\", \"width\": 0.5}}, \"type\": \"bar\"}], \"barpolar\": [{\"marker\": {\"line\": {\"color\": \"#E5ECF6\", \"width\": 0.5}}, \"type\": \"barpolar\"}], \"carpet\": [{\"aaxis\": {\"endlinecolor\": \"#2a3f5f\", \"gridcolor\": \"white\", \"linecolor\": \"white\", \"minorgridcolor\": \"white\", \"startlinecolor\": \"#2a3f5f\"}, \"baxis\": {\"endlinecolor\": \"#2a3f5f\", \"gridcolor\": \"white\", \"linecolor\": \"white\", \"minorgridcolor\": \"white\", \"startlinecolor\": \"#2a3f5f\"}, \"type\": \"carpet\"}], \"choropleth\": [{\"colorbar\": {\"outlinewidth\": 0, \"ticks\": \"\"}, \"type\": \"choropleth\"}], \"contour\": [{\"colorbar\": {\"outlinewidth\": 0, \"ticks\": \"\"}, \"colorscale\": [[0.0, \"#0d0887\"], [0.1111111111111111, \"#46039f\"], [0.2222222222222222, \"#7201a8\"], [0.3333333333333333, \"#9c179e\"], [0.4444444444444444, \"#bd3786\"], [0.5555555555555556, \"#d8576b\"], [0.6666666666666666, \"#ed7953\"], [0.7777777777777778, \"#fb9f3a\"], [0.8888888888888888, \"#fdca26\"], [1.0, \"#f0f921\"]], \"type\": \"contour\"}], \"contourcarpet\": [{\"colorbar\": {\"outlinewidth\": 0, \"ticks\": \"\"}, \"type\": \"contourcarpet\"}], \"heatmap\": [{\"colorbar\": {\"outlinewidth\": 0, \"ticks\": \"\"}, \"colorscale\": [[0.0, \"#0d0887\"], [0.1111111111111111, \"#46039f\"], [0.2222222222222222, \"#7201a8\"], [0.3333333333333333, \"#9c179e\"], [0.4444444444444444, \"#bd3786\"], [0.5555555555555556, \"#d8576b\"], [0.6666666666666666, \"#ed7953\"], [0.7777777777777778, \"#fb9f3a\"], [0.8888888888888888, \"#fdca26\"], [1.0, \"#f0f921\"]], \"type\": \"heatmap\"}], \"heatmapgl\": [{\"colorbar\": {\"outlinewidth\": 0, \"ticks\": \"\"}, \"colorscale\": [[0.0, \"#0d0887\"], [0.1111111111111111, \"#46039f\"], [0.2222222222222222, \"#7201a8\"], [0.3333333333333333, \"#9c179e\"], [0.4444444444444444, \"#bd3786\"], [0.5555555555555556, \"#d8576b\"], [0.6666666666666666, \"#ed7953\"], [0.7777777777777778, \"#fb9f3a\"], [0.8888888888888888, \"#fdca26\"], [1.0, \"#f0f921\"]], \"type\": \"heatmapgl\"}], \"histogram\": [{\"marker\": {\"colorbar\": {\"outlinewidth\": 0, \"ticks\": \"\"}}, \"type\": \"histogram\"}], \"histogram2d\": [{\"colorbar\": {\"outlinewidth\": 0, \"ticks\": \"\"}, \"colorscale\": [[0.0, \"#0d0887\"], [0.1111111111111111, \"#46039f\"], [0.2222222222222222, \"#7201a8\"], [0.3333333333333333, \"#9c179e\"], [0.4444444444444444, \"#bd3786\"], [0.5555555555555556, \"#d8576b\"], [0.6666666666666666, \"#ed7953\"], [0.7777777777777778, \"#fb9f3a\"], [0.8888888888888888, \"#fdca26\"], [1.0, \"#f0f921\"]], \"type\": \"histogram2d\"}], \"histogram2dcontour\": [{\"colorbar\": {\"outlinewidth\": 0, \"ticks\": \"\"}, \"colorscale\": [[0.0, \"#0d0887\"], [0.1111111111111111, \"#46039f\"], [0.2222222222222222, \"#7201a8\"], [0.3333333333333333, \"#9c179e\"], [0.4444444444444444, \"#bd3786\"], [0.5555555555555556, \"#d8576b\"], [0.6666666666666666, \"#ed7953\"], [0.7777777777777778, \"#fb9f3a\"], [0.8888888888888888, \"#fdca26\"], [1.0, \"#f0f921\"]], \"type\": \"histogram2dcontour\"}], \"mesh3d\": [{\"colorbar\": {\"outlinewidth\": 0, \"ticks\": \"\"}, \"type\": \"mesh3d\"}], \"parcoords\": [{\"line\": {\"colorbar\": {\"outlinewidth\": 0, \"ticks\": \"\"}}, \"type\": \"parcoords\"}], \"pie\": [{\"automargin\": true, \"type\": \"pie\"}], \"scatter\": [{\"marker\": {\"colorbar\": {\"outlinewidth\": 0, \"ticks\": \"\"}}, \"type\": \"scatter\"}], \"scatter3d\": [{\"line\": {\"colorbar\": {\"outlinewidth\": 0, \"ticks\": \"\"}}, \"marker\": {\"colorbar\": {\"outlinewidth\": 0, \"ticks\": \"\"}}, \"type\": \"scatter3d\"}], \"scattercarpet\": [{\"marker\": {\"colorbar\": {\"outlinewidth\": 0, \"ticks\": \"\"}}, \"type\": \"scattercarpet\"}], \"scattergeo\": [{\"marker\": {\"colorbar\": {\"outlinewidth\": 0, \"ticks\": \"\"}}, \"type\": \"scattergeo\"}], \"scattergl\": [{\"marker\": {\"colorbar\": {\"outlinewidth\": 0, \"ticks\": \"\"}}, \"type\": \"scattergl\"}], \"scattermapbox\": [{\"marker\": {\"colorbar\": {\"outlinewidth\": 0, \"ticks\": \"\"}}, \"type\": \"scattermapbox\"}], \"scatterpolar\": [{\"marker\": {\"colorbar\": {\"outlinewidth\": 0, \"ticks\": \"\"}}, \"type\": \"scatterpolar\"}], \"scatterpolargl\": [{\"marker\": {\"colorbar\": {\"outlinewidth\": 0, \"ticks\": \"\"}}, \"type\": \"scatterpolargl\"}], \"scatterternary\": [{\"marker\": {\"colorbar\": {\"outlinewidth\": 0, \"ticks\": \"\"}}, \"type\": \"scatterternary\"}], \"surface\": [{\"colorbar\": {\"outlinewidth\": 0, \"ticks\": \"\"}, \"colorscale\": [[0.0, \"#0d0887\"], [0.1111111111111111, \"#46039f\"], [0.2222222222222222, \"#7201a8\"], [0.3333333333333333, \"#9c179e\"], [0.4444444444444444, \"#bd3786\"], [0.5555555555555556, \"#d8576b\"], [0.6666666666666666, \"#ed7953\"], [0.7777777777777778, \"#fb9f3a\"], [0.8888888888888888, \"#fdca26\"], [1.0, \"#f0f921\"]], \"type\": \"surface\"}], \"table\": [{\"cells\": {\"fill\": {\"color\": \"#EBF0F8\"}, \"line\": {\"color\": \"white\"}}, \"header\": {\"fill\": {\"color\": \"#C8D4E3\"}, \"line\": {\"color\": \"white\"}}, \"type\": \"table\"}]}, \"layout\": {\"annotationdefaults\": {\"arrowcolor\": \"#2a3f5f\", \"arrowhead\": 0, \"arrowwidth\": 1}, \"autotypenumbers\": \"strict\", \"coloraxis\": {\"colorbar\": {\"outlinewidth\": 0, \"ticks\": \"\"}}, \"colorscale\": {\"diverging\": [[0, \"#8e0152\"], [0.1, \"#c51b7d\"], [0.2, \"#de77ae\"], [0.3, \"#f1b6da\"], [0.4, \"#fde0ef\"], [0.5, \"#f7f7f7\"], [0.6, \"#e6f5d0\"], [0.7, \"#b8e186\"], [0.8, \"#7fbc41\"], [0.9, \"#4d9221\"], [1, \"#276419\"]], \"sequential\": [[0.0, \"#0d0887\"], [0.1111111111111111, \"#46039f\"], [0.2222222222222222, \"#7201a8\"], [0.3333333333333333, \"#9c179e\"], [0.4444444444444444, \"#bd3786\"], [0.5555555555555556, \"#d8576b\"], [0.6666666666666666, \"#ed7953\"], [0.7777777777777778, \"#fb9f3a\"], [0.8888888888888888, \"#fdca26\"], [1.0, \"#f0f921\"]], \"sequentialminus\": [[0.0, \"#0d0887\"], [0.1111111111111111, \"#46039f\"], [0.2222222222222222, \"#7201a8\"], [0.3333333333333333, \"#9c179e\"], [0.4444444444444444, \"#bd3786\"], [0.5555555555555556, \"#d8576b\"], [0.6666666666666666, \"#ed7953\"], [0.7777777777777778, \"#fb9f3a\"], [0.8888888888888888, \"#fdca26\"], [1.0, \"#f0f921\"]]}, \"colorway\": [\"#636efa\", \"#EF553B\", \"#00cc96\", \"#ab63fa\", \"#FFA15A\", \"#19d3f3\", \"#FF6692\", \"#B6E880\", \"#FF97FF\", \"#FECB52\"], \"font\": {\"color\": \"#2a3f5f\"}, \"geo\": {\"bgcolor\": \"white\", \"lakecolor\": \"white\", \"landcolor\": \"#E5ECF6\", \"showlakes\": true, \"showland\": true, \"subunitcolor\": \"white\"}, \"hoverlabel\": {\"align\": \"left\"}, \"hovermode\": \"closest\", \"mapbox\": {\"style\": \"light\"}, \"paper_bgcolor\": \"white\", \"plot_bgcolor\": \"#E5ECF6\", \"polar\": {\"angularaxis\": {\"gridcolor\": \"white\", \"linecolor\": \"white\", \"ticks\": \"\"}, \"bgcolor\": \"#E5ECF6\", \"radialaxis\": {\"gridcolor\": \"white\", \"linecolor\": \"white\", \"ticks\": \"\"}}, \"scene\": {\"xaxis\": {\"backgroundcolor\": \"#E5ECF6\", \"gridcolor\": \"white\", \"gridwidth\": 2, \"linecolor\": \"white\", \"showbackground\": true, \"ticks\": \"\", \"zerolinecolor\": \"white\"}, \"yaxis\": {\"backgroundcolor\": \"#E5ECF6\", \"gridcolor\": \"white\", \"gridwidth\": 2, \"linecolor\": \"white\", \"showbackground\": true, \"ticks\": \"\", \"zerolinecolor\": \"white\"}, \"zaxis\": {\"backgroundcolor\": \"#E5ECF6\", \"gridcolor\": \"white\", \"gridwidth\": 2, \"linecolor\": \"white\", \"showbackground\": true, \"ticks\": \"\", \"zerolinecolor\": \"white\"}}, \"shapedefaults\": {\"line\": {\"color\": \"#2a3f5f\"}}, \"ternary\": {\"aaxis\": {\"gridcolor\": \"white\", \"linecolor\": \"white\", \"ticks\": \"\"}, \"baxis\": {\"gridcolor\": \"white\", \"linecolor\": \"white\", \"ticks\": \"\"}, \"bgcolor\": \"#E5ECF6\", \"caxis\": {\"gridcolor\": \"white\", \"linecolor\": \"white\", \"ticks\": \"\"}}, \"title\": {\"x\": 0.05}, \"xaxis\": {\"automargin\": true, \"gridcolor\": \"white\", \"linecolor\": \"white\", \"ticks\": \"\", \"title\": {\"standoff\": 15}, \"zerolinecolor\": \"white\", \"zerolinewidth\": 2}, \"yaxis\": {\"automargin\": true, \"gridcolor\": \"white\", \"linecolor\": \"white\", \"ticks\": \"\", \"title\": {\"standoff\": 15}, \"zerolinecolor\": \"white\", \"zerolinewidth\": 2}}}},                        {\"responsive\": true}                    ).then(function(){\n",
       "                            \n",
       "var gd = document.getElementById('0da83632-04f3-492c-9bf9-5fc49716286c');\n",
       "var x = new MutationObserver(function (mutations, observer) {{\n",
       "        var display = window.getComputedStyle(gd).display;\n",
       "        if (!display || display === 'none') {{\n",
       "            console.log([gd, 'removed!']);\n",
       "            Plotly.purge(gd);\n",
       "            observer.disconnect();\n",
       "        }}\n",
       "}});\n",
       "\n",
       "// Listen for the removal of the full notebook cells\n",
       "var notebookContainer = gd.closest('#notebook-container');\n",
       "if (notebookContainer) {{\n",
       "    x.observe(notebookContainer, {childList: true});\n",
       "}}\n",
       "\n",
       "// Listen for the clearing of the current output cell\n",
       "var outputEl = gd.closest('.output');\n",
       "if (outputEl) {{\n",
       "    x.observe(outputEl, {childList: true});\n",
       "}}\n",
       "\n",
       "                        })                };                });            </script>        </div>"
      ]
     },
     "metadata": {},
     "output_type": "display_data"
    }
   ],
   "source": [
    "df = px.data.wind()\n",
    "fig = px.scatter_polar(df, r=\"frequency\", theta=\"direction\")\n",
    "fig.show()"
   ]
  },
  {
   "cell_type": "code",
   "execution_count": null,
   "metadata": {},
   "outputs": [],
   "source": []
  }
 ],
 "metadata": {
  "kernelspec": {
   "display_name": "Python 3",
   "language": "python",
   "name": "python3"
  },
  "language_info": {
   "codemirror_mode": {
    "name": "ipython",
    "version": 3
   },
   "file_extension": ".py",
   "mimetype": "text/x-python",
   "name": "python",
   "nbconvert_exporter": "python",
   "pygments_lexer": "ipython3",
   "version": "3.8.5"
  }
 },
 "nbformat": 4,
 "nbformat_minor": 4
}
